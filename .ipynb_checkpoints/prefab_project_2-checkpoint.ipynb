{
 "cells": [
  {
   "cell_type": "markdown",
   "id": "12fdb81c",
   "metadata": {},
   "source": [
    "<div class=\"alert alert-success\">\n",
    "  <b> ✔️Комментарий ревьюера ✔️</b>\n",
    "\n",
    "Привет, Даниил! Меня зовут Михаил, я буду проверять твой проект. Предлагаю общаться на 'ты' :)\n",
    "Однако, если это неудобно - сообщи, и мы перейдем на 'Вы'. Моя главная цель —  поделиться с тобой своим опытом и помочь тебе стать аналитиком данных, а не только указать на совершенные тобой ошибки.\n",
    "\n",
    "Видно, что к проекту приложен большой труд. Все ключевые этапы в работе выполнены, статистическое исследование проведено качественно. Так что в целом справиться с задачей тебе удалось.\n",
    "\n",
    "Есть несколько аспектов, которые **требуют** твоего **внимания**. Комментарии по ним помечены красным цветом и символами ❌. После их доработки проект будет принят, осталось совсем немного :) \n",
    "    \n",
    "\n",
    "Давай работать над проектом в диалоге: если **ты что-то меняешь** в проекте по моим рекомендациям — **пиши об этом**. Мне будет легче отследить изменения, если ты будешь использовать синюю форму, которую я прикреплю ниже. Пожалуйста, **не перемещай, не изменяй и не удаляй мои комментарии**. Всё это поможет выполнить повторную проверку твоего проекта оперативнее. \n",
    "\n",
    "\n",
    "\n",
    "Жду проект на повторное ревью. Успехов в изучении!\n",
    "\n",
    "\n",
    "\n",
    "</div>\n",
    "<div class=\"alert alert-block alert-danger\"> <b>❌ Комментарий ревьюера ❌</b> \n",
    "    Так я выделяю моменты, которые требуют особого внимания. Нужно будет учесть их и внести корректировки в свою работу. </div>\n",
    "<div class=\"alert alert-block alert-warning\"> <b>⚠️ Комментарий ревьюера ⚠️</b> \n",
    "    Желтым я отмечу рекомендации, которые, могут быть полезными при твоей работе. Они носят рекомендационный характер, но будет классно, если ты будешь учитывать их при работе.</div>\n",
    "<div class=\"alert alert-block alert-success\"> <b>✔️ Комментарий ревьюера ✔️</b>\n",
    "    Так я выделяю удачные и элегантные решения, на которые можно опираться в будущих проектах.</div>\n",
    "<div class=\"alert alert-block alert-info\">\n",
    "    \n",
    "А в таком блоке ты можешь оставить комментарии для меня \n",
    "    \n",
    "</div>"
   ]
  },
  {
   "cell_type": "markdown",
   "id": "57e37d15",
   "metadata": {},
   "source": [
    "# Сборный проект-2 "
   ]
  },
  {
   "cell_type": "markdown",
   "id": "579b5302",
   "metadata": {},
   "source": [
    "## Описание проекта"
   ]
  },
  {
   "cell_type": "markdown",
   "id": "4493f914",
   "metadata": {},
   "source": [
    "Мы работаем в стартапе, который продает продукты питания."
   ]
  },
  {
   "cell_type": "markdown",
   "id": "206702df",
   "metadata": {},
   "source": [
    "## Описание данных"
   ]
  },
  {
   "cell_type": "markdown",
   "id": "a6acec95",
   "metadata": {},
   "source": [
    "Каждая запись в логе — это действие пользователя, или событие. \n",
    "- EventName — название события;\n",
    "- DeviceIDHash — уникальный идентификатор пользователя;\n",
    "- EventTimestamp — время события;\n",
    "- ExpId — номер эксперимента: 246 и 247 — контрольные группы, а 248 — экспериментальная."
   ]
  },
  {
   "cell_type": "markdown",
   "id": "2176d67e",
   "metadata": {},
   "source": [
    "### Цель проекта"
   ]
  },
  {
   "cell_type": "markdown",
   "id": "b17dfc47",
   "metadata": {},
   "source": [
    "Понять как пользоваетли ведут себя нашего мобильного приложения. "
   ]
  },
  {
   "cell_type": "markdown",
   "id": "1b532aad",
   "metadata": {},
   "source": [
    "### План работы"
   ]
  },
  {
   "cell_type": "markdown",
   "id": "e4bad31e",
   "metadata": {},
   "source": [
    "#### 1. Изучить данные \n",
    "#### 2. Предобработка данных\n",
    "#### 3. Изучить воронку событий\n",
    "#### 4. Изучить результаты эксперемнта\n"
   ]
  },
  {
   "cell_type": "markdown",
   "id": "5daf48e7",
   "metadata": {},
   "source": [
    "<div class=\"alert alert-success\">\n",
    "\n",
    "**✔️ Комментарий ревьюера ✔️**\n",
    "   \n",
    "   Хорошее введение в проект - пригодится в будущем, когда соберешь большое портфолио и откроешь проект вновь👍\n",
    "\n",
    "</div>\n"
   ]
  },
  {
   "cell_type": "markdown",
   "id": "a4047fea",
   "metadata": {
    "tags": []
   },
   "source": [
    "### 1. Изучаем данные"
   ]
  },
  {
   "cell_type": "markdown",
   "id": "da405881",
   "metadata": {},
   "source": [
    "Импортируем библиотеки"
   ]
  },
  {
   "cell_type": "code",
   "execution_count": 1,
   "id": "74b1d8e7",
   "metadata": {},
   "outputs": [],
   "source": [
    "import pandas as pd\n",
    "import numpy as np\n",
    "import scipy.stats as stats\n",
    "import matplotlib.pyplot as plt\n",
    "import seaborn as sns\n",
    "import math as mth\n",
    "from scipy import stats as st"
   ]
  },
  {
   "cell_type": "markdown",
   "id": "b8f5e465",
   "metadata": {},
   "source": [
    "Читаем таблицу"
   ]
  },
  {
   "cell_type": "code",
   "execution_count": 2,
   "id": "b26dd9c6",
   "metadata": {},
   "outputs": [],
   "source": [
    "logs = pd.read_csv('datasets/logs_exp.csv', sep = '\\t')"
   ]
  },
  {
   "cell_type": "markdown",
   "id": "f9ec4fd0",
   "metadata": {},
   "source": [
    "Выводим первые пять строк таблицы"
   ]
  },
  {
   "cell_type": "code",
   "execution_count": 3,
   "id": "7c5be1de",
   "metadata": {},
   "outputs": [
    {
     "data": {
      "text/html": [
       "<div>\n",
       "<style scoped>\n",
       "    .dataframe tbody tr th:only-of-type {\n",
       "        vertical-align: middle;\n",
       "    }\n",
       "\n",
       "    .dataframe tbody tr th {\n",
       "        vertical-align: top;\n",
       "    }\n",
       "\n",
       "    .dataframe thead th {\n",
       "        text-align: right;\n",
       "    }\n",
       "</style>\n",
       "<table border=\"1\" class=\"dataframe\">\n",
       "  <thead>\n",
       "    <tr style=\"text-align: right;\">\n",
       "      <th></th>\n",
       "      <th>EventName</th>\n",
       "      <th>DeviceIDHash</th>\n",
       "      <th>EventTimestamp</th>\n",
       "      <th>ExpId</th>\n",
       "    </tr>\n",
       "  </thead>\n",
       "  <tbody>\n",
       "    <tr>\n",
       "      <th>0</th>\n",
       "      <td>MainScreenAppear</td>\n",
       "      <td>4575588528974610257</td>\n",
       "      <td>1564029816</td>\n",
       "      <td>246</td>\n",
       "    </tr>\n",
       "    <tr>\n",
       "      <th>1</th>\n",
       "      <td>MainScreenAppear</td>\n",
       "      <td>7416695313311560658</td>\n",
       "      <td>1564053102</td>\n",
       "      <td>246</td>\n",
       "    </tr>\n",
       "    <tr>\n",
       "      <th>2</th>\n",
       "      <td>PaymentScreenSuccessful</td>\n",
       "      <td>3518123091307005509</td>\n",
       "      <td>1564054127</td>\n",
       "      <td>248</td>\n",
       "    </tr>\n",
       "    <tr>\n",
       "      <th>3</th>\n",
       "      <td>CartScreenAppear</td>\n",
       "      <td>3518123091307005509</td>\n",
       "      <td>1564054127</td>\n",
       "      <td>248</td>\n",
       "    </tr>\n",
       "    <tr>\n",
       "      <th>4</th>\n",
       "      <td>PaymentScreenSuccessful</td>\n",
       "      <td>6217807653094995999</td>\n",
       "      <td>1564055322</td>\n",
       "      <td>248</td>\n",
       "    </tr>\n",
       "  </tbody>\n",
       "</table>\n",
       "</div>"
      ],
      "text/plain": [
       "                 EventName         DeviceIDHash  EventTimestamp  ExpId\n",
       "0         MainScreenAppear  4575588528974610257      1564029816    246\n",
       "1         MainScreenAppear  7416695313311560658      1564053102    246\n",
       "2  PaymentScreenSuccessful  3518123091307005509      1564054127    248\n",
       "3         CartScreenAppear  3518123091307005509      1564054127    248\n",
       "4  PaymentScreenSuccessful  6217807653094995999      1564055322    248"
      ]
     },
     "execution_count": 3,
     "metadata": {},
     "output_type": "execute_result"
    }
   ],
   "source": [
    "logs.head(5)"
   ]
  },
  {
   "cell_type": "markdown",
   "id": "03037864",
   "metadata": {},
   "source": [
    "Смотрим информацию о таблице"
   ]
  },
  {
   "cell_type": "code",
   "execution_count": 4,
   "id": "a26ac0ed",
   "metadata": {},
   "outputs": [
    {
     "name": "stdout",
     "output_type": "stream",
     "text": [
      "<class 'pandas.core.frame.DataFrame'>\n",
      "RangeIndex: 244126 entries, 0 to 244125\n",
      "Data columns (total 4 columns):\n",
      " #   Column          Non-Null Count   Dtype \n",
      "---  ------          --------------   ----- \n",
      " 0   EventName       244126 non-null  object\n",
      " 1   DeviceIDHash    244126 non-null  int64 \n",
      " 2   EventTimestamp  244126 non-null  int64 \n",
      " 3   ExpId           244126 non-null  int64 \n",
      "dtypes: int64(3), object(1)\n",
      "memory usage: 7.5+ MB\n"
     ]
    }
   ],
   "source": [
    "logs.info()"
   ]
  },
  {
   "cell_type": "markdown",
   "id": "fb8ea0e7",
   "metadata": {
    "tags": []
   },
   "source": [
    "### 2. Предобработка данных"
   ]
  },
  {
   "cell_type": "markdown",
   "id": "d8f8582d",
   "metadata": {},
   "source": [
    "Меняем названия столбцов"
   ]
  },
  {
   "cell_type": "code",
   "execution_count": 5,
   "id": "2f509e57",
   "metadata": {},
   "outputs": [],
   "source": [
    "logs = logs.rename(columns = {'EventName':'event', 'DeviceIDHash':'user_id', 'EventTimestamp': 'event_time', 'ExpId': 'exp_id'})"
   ]
  },
  {
   "cell_type": "code",
   "execution_count": 6,
   "id": "57bf8639",
   "metadata": {},
   "outputs": [
    {
     "data": {
      "text/html": [
       "<div>\n",
       "<style scoped>\n",
       "    .dataframe tbody tr th:only-of-type {\n",
       "        vertical-align: middle;\n",
       "    }\n",
       "\n",
       "    .dataframe tbody tr th {\n",
       "        vertical-align: top;\n",
       "    }\n",
       "\n",
       "    .dataframe thead th {\n",
       "        text-align: right;\n",
       "    }\n",
       "</style>\n",
       "<table border=\"1\" class=\"dataframe\">\n",
       "  <thead>\n",
       "    <tr style=\"text-align: right;\">\n",
       "      <th></th>\n",
       "      <th>event</th>\n",
       "      <th>user_id</th>\n",
       "      <th>event_time</th>\n",
       "      <th>exp_id</th>\n",
       "    </tr>\n",
       "  </thead>\n",
       "  <tbody>\n",
       "    <tr>\n",
       "      <th>0</th>\n",
       "      <td>MainScreenAppear</td>\n",
       "      <td>4575588528974610257</td>\n",
       "      <td>1564029816</td>\n",
       "      <td>246</td>\n",
       "    </tr>\n",
       "    <tr>\n",
       "      <th>1</th>\n",
       "      <td>MainScreenAppear</td>\n",
       "      <td>7416695313311560658</td>\n",
       "      <td>1564053102</td>\n",
       "      <td>246</td>\n",
       "    </tr>\n",
       "    <tr>\n",
       "      <th>2</th>\n",
       "      <td>PaymentScreenSuccessful</td>\n",
       "      <td>3518123091307005509</td>\n",
       "      <td>1564054127</td>\n",
       "      <td>248</td>\n",
       "    </tr>\n",
       "    <tr>\n",
       "      <th>3</th>\n",
       "      <td>CartScreenAppear</td>\n",
       "      <td>3518123091307005509</td>\n",
       "      <td>1564054127</td>\n",
       "      <td>248</td>\n",
       "    </tr>\n",
       "    <tr>\n",
       "      <th>4</th>\n",
       "      <td>PaymentScreenSuccessful</td>\n",
       "      <td>6217807653094995999</td>\n",
       "      <td>1564055322</td>\n",
       "      <td>248</td>\n",
       "    </tr>\n",
       "    <tr>\n",
       "      <th>...</th>\n",
       "      <td>...</td>\n",
       "      <td>...</td>\n",
       "      <td>...</td>\n",
       "      <td>...</td>\n",
       "    </tr>\n",
       "    <tr>\n",
       "      <th>244121</th>\n",
       "      <td>MainScreenAppear</td>\n",
       "      <td>4599628364049201812</td>\n",
       "      <td>1565212345</td>\n",
       "      <td>247</td>\n",
       "    </tr>\n",
       "    <tr>\n",
       "      <th>244122</th>\n",
       "      <td>MainScreenAppear</td>\n",
       "      <td>5849806612437486590</td>\n",
       "      <td>1565212439</td>\n",
       "      <td>246</td>\n",
       "    </tr>\n",
       "    <tr>\n",
       "      <th>244123</th>\n",
       "      <td>MainScreenAppear</td>\n",
       "      <td>5746969938801999050</td>\n",
       "      <td>1565212483</td>\n",
       "      <td>246</td>\n",
       "    </tr>\n",
       "    <tr>\n",
       "      <th>244124</th>\n",
       "      <td>MainScreenAppear</td>\n",
       "      <td>5746969938801999050</td>\n",
       "      <td>1565212498</td>\n",
       "      <td>246</td>\n",
       "    </tr>\n",
       "    <tr>\n",
       "      <th>244125</th>\n",
       "      <td>OffersScreenAppear</td>\n",
       "      <td>5746969938801999050</td>\n",
       "      <td>1565212517</td>\n",
       "      <td>246</td>\n",
       "    </tr>\n",
       "  </tbody>\n",
       "</table>\n",
       "<p>244126 rows × 4 columns</p>\n",
       "</div>"
      ],
      "text/plain": [
       "                          event              user_id  event_time  exp_id\n",
       "0              MainScreenAppear  4575588528974610257  1564029816     246\n",
       "1              MainScreenAppear  7416695313311560658  1564053102     246\n",
       "2       PaymentScreenSuccessful  3518123091307005509  1564054127     248\n",
       "3              CartScreenAppear  3518123091307005509  1564054127     248\n",
       "4       PaymentScreenSuccessful  6217807653094995999  1564055322     248\n",
       "...                         ...                  ...         ...     ...\n",
       "244121         MainScreenAppear  4599628364049201812  1565212345     247\n",
       "244122         MainScreenAppear  5849806612437486590  1565212439     246\n",
       "244123         MainScreenAppear  5746969938801999050  1565212483     246\n",
       "244124         MainScreenAppear  5746969938801999050  1565212498     246\n",
       "244125       OffersScreenAppear  5746969938801999050  1565212517     246\n",
       "\n",
       "[244126 rows x 4 columns]"
      ]
     },
     "execution_count": 6,
     "metadata": {},
     "output_type": "execute_result"
    }
   ],
   "source": [
    "logs"
   ]
  },
  {
   "cell_type": "markdown",
   "id": "315a541d-db65-4877-9ebe-6e8b591cb3f1",
   "metadata": {},
   "source": [
    "Проверяем пропуски "
   ]
  },
  {
   "cell_type": "code",
   "execution_count": 7,
   "id": "3b7fa997-b690-42bf-9f5f-995a52634076",
   "metadata": {},
   "outputs": [
    {
     "data": {
      "text/plain": [
       "event         0\n",
       "user_id       0\n",
       "event_time    0\n",
       "exp_id        0\n",
       "dtype: int64"
      ]
     },
     "execution_count": 7,
     "metadata": {},
     "output_type": "execute_result"
    }
   ],
   "source": [
    "logs.isna().sum()"
   ]
  },
  {
   "cell_type": "markdown",
   "id": "96dc2b8e",
   "metadata": {},
   "source": [
    "Пропусков нет"
   ]
  },
  {
   "cell_type": "markdown",
   "id": "87b3d7d4",
   "metadata": {},
   "source": [
    "Проверим дубликаты"
   ]
  },
  {
   "cell_type": "code",
   "execution_count": 8,
   "id": "5bd08ef5",
   "metadata": {},
   "outputs": [
    {
     "data": {
      "text/plain": [
       "413"
      ]
     },
     "execution_count": 8,
     "metadata": {},
     "output_type": "execute_result"
    }
   ],
   "source": [
    "logs.duplicated().sum()"
   ]
  },
  {
   "cell_type": "markdown",
   "id": "54a139ae",
   "metadata": {},
   "source": [
    "Дубликаты есть, но из очень мало отностительно размера таблицы. Удаляем их"
   ]
  },
  {
   "cell_type": "code",
   "execution_count": 9,
   "id": "d51fbbef",
   "metadata": {},
   "outputs": [],
   "source": [
    "logs = logs.drop_duplicates()"
   ]
  },
  {
   "cell_type": "markdown",
   "id": "4cbaa5ab",
   "metadata": {},
   "source": [
    "Добавляем меняем тип данных столбца event_time и добовляем столбец date с датой события"
   ]
  },
  {
   "cell_type": "code",
   "execution_count": 10,
   "id": "38c872c3",
   "metadata": {},
   "outputs": [
    {
     "name": "stderr",
     "output_type": "stream",
     "text": [
      "C:\\Users\\dan25\\AppData\\Local\\Temp\\ipykernel_5180\\1022350964.py:1: SettingWithCopyWarning: \n",
      "A value is trying to be set on a copy of a slice from a DataFrame.\n",
      "Try using .loc[row_indexer,col_indexer] = value instead\n",
      "\n",
      "See the caveats in the documentation: https://pandas.pydata.org/pandas-docs/stable/user_guide/indexing.html#returning-a-view-versus-a-copy\n",
      "  logs['event_time'] = pd.to_datetime(logs['event_time'], unit = 's')\n",
      "C:\\Users\\dan25\\AppData\\Local\\Temp\\ipykernel_5180\\1022350964.py:2: SettingWithCopyWarning: \n",
      "A value is trying to be set on a copy of a slice from a DataFrame.\n",
      "Try using .loc[row_indexer,col_indexer] = value instead\n",
      "\n",
      "See the caveats in the documentation: https://pandas.pydata.org/pandas-docs/stable/user_guide/indexing.html#returning-a-view-versus-a-copy\n",
      "  logs['date'] = logs['event_time'].dt.date\n"
     ]
    }
   ],
   "source": [
    "logs['event_time'] = pd.to_datetime(logs['event_time'], unit = 's')\n",
    "logs['date'] = logs['event_time'].dt.date"
   ]
  },
  {
   "cell_type": "markdown",
   "id": "ef16682f",
   "metadata": {},
   "source": [
    "<div class=\"alert alert-success\">\n",
    "\n",
    "**✔️ Комментарий ревьюера ✔️**\n",
    "   \n",
    "   Очень хорошо, что не забываешь проверять данные на наличие пропусков и дубликатов.  Молодец, что приводишь даты к нужному формату - предобработка проведена отлично.\n",
    "\n",
    "</div>"
   ]
  },
  {
   "cell_type": "markdown",
   "id": "f3a8752c-24ac-48b5-97f6-cac54e4e20b7",
   "metadata": {},
   "source": [
    "### 3. Изучение и проверка данных"
   ]
  },
  {
   "cell_type": "code",
   "execution_count": 11,
   "id": "3053a2c1-65ec-4e3f-81a4-3457542d5177",
   "metadata": {
    "tags": []
   },
   "outputs": [
    {
     "data": {
      "text/html": [
       "<div>\n",
       "<style scoped>\n",
       "    .dataframe tbody tr th:only-of-type {\n",
       "        vertical-align: middle;\n",
       "    }\n",
       "\n",
       "    .dataframe tbody tr th {\n",
       "        vertical-align: top;\n",
       "    }\n",
       "\n",
       "    .dataframe thead th {\n",
       "        text-align: right;\n",
       "    }\n",
       "</style>\n",
       "<table border=\"1\" class=\"dataframe\">\n",
       "  <thead>\n",
       "    <tr style=\"text-align: right;\">\n",
       "      <th></th>\n",
       "      <th>event</th>\n",
       "      <th>user_id</th>\n",
       "      <th>event_time</th>\n",
       "      <th>exp_id</th>\n",
       "      <th>date</th>\n",
       "    </tr>\n",
       "  </thead>\n",
       "  <tbody>\n",
       "    <tr>\n",
       "      <th>0</th>\n",
       "      <td>MainScreenAppear</td>\n",
       "      <td>4575588528974610257</td>\n",
       "      <td>2019-07-25 04:43:36</td>\n",
       "      <td>246</td>\n",
       "      <td>2019-07-25</td>\n",
       "    </tr>\n",
       "    <tr>\n",
       "      <th>1</th>\n",
       "      <td>MainScreenAppear</td>\n",
       "      <td>7416695313311560658</td>\n",
       "      <td>2019-07-25 11:11:42</td>\n",
       "      <td>246</td>\n",
       "      <td>2019-07-25</td>\n",
       "    </tr>\n",
       "    <tr>\n",
       "      <th>2</th>\n",
       "      <td>PaymentScreenSuccessful</td>\n",
       "      <td>3518123091307005509</td>\n",
       "      <td>2019-07-25 11:28:47</td>\n",
       "      <td>248</td>\n",
       "      <td>2019-07-25</td>\n",
       "    </tr>\n",
       "    <tr>\n",
       "      <th>3</th>\n",
       "      <td>CartScreenAppear</td>\n",
       "      <td>3518123091307005509</td>\n",
       "      <td>2019-07-25 11:28:47</td>\n",
       "      <td>248</td>\n",
       "      <td>2019-07-25</td>\n",
       "    </tr>\n",
       "    <tr>\n",
       "      <th>4</th>\n",
       "      <td>PaymentScreenSuccessful</td>\n",
       "      <td>6217807653094995999</td>\n",
       "      <td>2019-07-25 11:48:42</td>\n",
       "      <td>248</td>\n",
       "      <td>2019-07-25</td>\n",
       "    </tr>\n",
       "    <tr>\n",
       "      <th>...</th>\n",
       "      <td>...</td>\n",
       "      <td>...</td>\n",
       "      <td>...</td>\n",
       "      <td>...</td>\n",
       "      <td>...</td>\n",
       "    </tr>\n",
       "    <tr>\n",
       "      <th>244121</th>\n",
       "      <td>MainScreenAppear</td>\n",
       "      <td>4599628364049201812</td>\n",
       "      <td>2019-08-07 21:12:25</td>\n",
       "      <td>247</td>\n",
       "      <td>2019-08-07</td>\n",
       "    </tr>\n",
       "    <tr>\n",
       "      <th>244122</th>\n",
       "      <td>MainScreenAppear</td>\n",
       "      <td>5849806612437486590</td>\n",
       "      <td>2019-08-07 21:13:59</td>\n",
       "      <td>246</td>\n",
       "      <td>2019-08-07</td>\n",
       "    </tr>\n",
       "    <tr>\n",
       "      <th>244123</th>\n",
       "      <td>MainScreenAppear</td>\n",
       "      <td>5746969938801999050</td>\n",
       "      <td>2019-08-07 21:14:43</td>\n",
       "      <td>246</td>\n",
       "      <td>2019-08-07</td>\n",
       "    </tr>\n",
       "    <tr>\n",
       "      <th>244124</th>\n",
       "      <td>MainScreenAppear</td>\n",
       "      <td>5746969938801999050</td>\n",
       "      <td>2019-08-07 21:14:58</td>\n",
       "      <td>246</td>\n",
       "      <td>2019-08-07</td>\n",
       "    </tr>\n",
       "    <tr>\n",
       "      <th>244125</th>\n",
       "      <td>OffersScreenAppear</td>\n",
       "      <td>5746969938801999050</td>\n",
       "      <td>2019-08-07 21:15:17</td>\n",
       "      <td>246</td>\n",
       "      <td>2019-08-07</td>\n",
       "    </tr>\n",
       "  </tbody>\n",
       "</table>\n",
       "<p>243713 rows × 5 columns</p>\n",
       "</div>"
      ],
      "text/plain": [
       "                          event              user_id          event_time  \\\n",
       "0              MainScreenAppear  4575588528974610257 2019-07-25 04:43:36   \n",
       "1              MainScreenAppear  7416695313311560658 2019-07-25 11:11:42   \n",
       "2       PaymentScreenSuccessful  3518123091307005509 2019-07-25 11:28:47   \n",
       "3              CartScreenAppear  3518123091307005509 2019-07-25 11:28:47   \n",
       "4       PaymentScreenSuccessful  6217807653094995999 2019-07-25 11:48:42   \n",
       "...                         ...                  ...                 ...   \n",
       "244121         MainScreenAppear  4599628364049201812 2019-08-07 21:12:25   \n",
       "244122         MainScreenAppear  5849806612437486590 2019-08-07 21:13:59   \n",
       "244123         MainScreenAppear  5746969938801999050 2019-08-07 21:14:43   \n",
       "244124         MainScreenAppear  5746969938801999050 2019-08-07 21:14:58   \n",
       "244125       OffersScreenAppear  5746969938801999050 2019-08-07 21:15:17   \n",
       "\n",
       "        exp_id        date  \n",
       "0          246  2019-07-25  \n",
       "1          246  2019-07-25  \n",
       "2          248  2019-07-25  \n",
       "3          248  2019-07-25  \n",
       "4          248  2019-07-25  \n",
       "...        ...         ...  \n",
       "244121     247  2019-08-07  \n",
       "244122     246  2019-08-07  \n",
       "244123     246  2019-08-07  \n",
       "244124     246  2019-08-07  \n",
       "244125     246  2019-08-07  \n",
       "\n",
       "[243713 rows x 5 columns]"
      ]
     },
     "execution_count": 11,
     "metadata": {},
     "output_type": "execute_result"
    }
   ],
   "source": [
    "logs"
   ]
  },
  {
   "cell_type": "markdown",
   "id": "b70b1ea6-707c-4cfd-9a28-4f6afd52eb70",
   "metadata": {
    "tags": []
   },
   "source": [
    "Посчитаем сколько событий "
   ]
  },
  {
   "cell_type": "code",
   "execution_count": 12,
   "id": "01c4cd88-885c-4a86-a819-1daab43dd382",
   "metadata": {},
   "outputs": [
    {
     "data": {
      "text/plain": [
       "243713"
      ]
     },
     "execution_count": 12,
     "metadata": {},
     "output_type": "execute_result"
    }
   ],
   "source": [
    "events = logs['event'].count()\n",
    "events"
   ]
  },
  {
   "cell_type": "markdown",
   "id": "10b80da6-0dd8-4b8b-9697-23ddd7025e67",
   "metadata": {},
   "source": [
    "Посчитаем сколько пользоваетелей в логе"
   ]
  },
  {
   "cell_type": "code",
   "execution_count": 13,
   "id": "b7214011-0c4e-45c5-b306-df0fe475ec26",
   "metadata": {},
   "outputs": [
    {
     "data": {
      "text/plain": [
       "7551"
      ]
     },
     "execution_count": 13,
     "metadata": {},
     "output_type": "execute_result"
    }
   ],
   "source": [
    "users = logs['user_id'].nunique()\n",
    "users"
   ]
  },
  {
   "cell_type": "markdown",
   "id": "7d7a3063-3eaa-4afb-b835-f24b10938f46",
   "metadata": {},
   "source": [
    "Сколько событий приходится на одного пользователя в среднем"
   ]
  },
  {
   "cell_type": "code",
   "execution_count": 14,
   "id": "f6266c30-708d-4620-83b6-4f011220b7e3",
   "metadata": {},
   "outputs": [
    {
     "data": {
      "text/plain": [
       "32"
      ]
     },
     "execution_count": 14,
     "metadata": {},
     "output_type": "execute_result"
    }
   ],
   "source": [
    "mean_event_per_user = round(events/users)\n",
    "mean_event_per_user"
   ]
  },
  {
   "cell_type": "markdown",
   "id": "3ed7e37a-d719-47c2-b90d-80ed1eaf3444",
   "metadata": {},
   "source": [
    "Данными за какой период у нас есть."
   ]
  },
  {
   "cell_type": "code",
   "execution_count": 15,
   "id": "b5a85b88-a1f6-4289-87af-72dd10c5c342",
   "metadata": {},
   "outputs": [
    {
     "data": {
      "text/plain": [
       "datetime.date(2019, 7, 25)"
      ]
     },
     "execution_count": 15,
     "metadata": {},
     "output_type": "execute_result"
    }
   ],
   "source": [
    "logs['date'].min()"
   ]
  },
  {
   "cell_type": "code",
   "execution_count": 16,
   "id": "3b325694-e439-44c7-b522-66fce17b5d5a",
   "metadata": {},
   "outputs": [
    {
     "data": {
      "text/plain": [
       "datetime.date(2019, 8, 7)"
      ]
     },
     "execution_count": 16,
     "metadata": {},
     "output_type": "execute_result"
    }
   ],
   "source": [
    "logs['date'].max()"
   ]
  },
  {
   "cell_type": "code",
   "execution_count": 17,
   "id": "af4cf224-3372-4daf-9775-5225f5e0aaea",
   "metadata": {},
   "outputs": [
    {
     "data": {
      "text/plain": [
       "<Axes: >"
      ]
     },
     "execution_count": 17,
     "metadata": {},
     "output_type": "execute_result"
    },
    {
     "data": {
      "image/png": "[encoded data removed]",
      "text/plain": [
       "<Figure size 1500x500 with 1 Axes>"
      ]
     },
     "metadata": {},
     "output_type": "display_data"
    }
   ],
   "source": [
    "logs['event_time'].hist(figsize = (15,5), bins = 14)"
   ]
  },
  {
   "cell_type": "markdown",
   "id": "52533538-a7e5-4419-bfd2-26990a93475d",
   "metadata": {},
   "source": [
    "Из гистограммы видно что мы имеем полные данные только за период с 1 по 7 августа. В дни ранее этого периода данных слишком мало. Отбрасываем пользователей которые не входят в этот период.\n"
   ]
  },
  {
   "cell_type": "code",
   "execution_count": 18,
   "id": "59e5b28f-f08a-4bdf-a399-bc1b038b41b1",
   "metadata": {},
   "outputs": [
    {
     "data": {
      "text/html": [
       "<div>\n",
       "<style scoped>\n",
       "    .dataframe tbody tr th:only-of-type {\n",
       "        vertical-align: middle;\n",
       "    }\n",
       "\n",
       "    .dataframe tbody tr th {\n",
       "        vertical-align: top;\n",
       "    }\n",
       "\n",
       "    .dataframe thead th {\n",
       "        text-align: right;\n",
       "    }\n",
       "</style>\n",
       "<table border=\"1\" class=\"dataframe\">\n",
       "  <thead>\n",
       "    <tr style=\"text-align: right;\">\n",
       "      <th></th>\n",
       "      <th>event</th>\n",
       "      <th>user_id</th>\n",
       "      <th>event_time</th>\n",
       "      <th>exp_id</th>\n",
       "      <th>date</th>\n",
       "    </tr>\n",
       "  </thead>\n",
       "  <tbody>\n",
       "    <tr>\n",
       "      <th>0</th>\n",
       "      <td>MainScreenAppear</td>\n",
       "      <td>4575588528974610257</td>\n",
       "      <td>2019-07-25 04:43:36</td>\n",
       "      <td>246</td>\n",
       "      <td>2019-07-25</td>\n",
       "    </tr>\n",
       "    <tr>\n",
       "      <th>1</th>\n",
       "      <td>MainScreenAppear</td>\n",
       "      <td>7416695313311560658</td>\n",
       "      <td>2019-07-25 11:11:42</td>\n",
       "      <td>246</td>\n",
       "      <td>2019-07-25</td>\n",
       "    </tr>\n",
       "    <tr>\n",
       "      <th>2</th>\n",
       "      <td>PaymentScreenSuccessful</td>\n",
       "      <td>3518123091307005509</td>\n",
       "      <td>2019-07-25 11:28:47</td>\n",
       "      <td>248</td>\n",
       "      <td>2019-07-25</td>\n",
       "    </tr>\n",
       "    <tr>\n",
       "      <th>3</th>\n",
       "      <td>CartScreenAppear</td>\n",
       "      <td>3518123091307005509</td>\n",
       "      <td>2019-07-25 11:28:47</td>\n",
       "      <td>248</td>\n",
       "      <td>2019-07-25</td>\n",
       "    </tr>\n",
       "    <tr>\n",
       "      <th>4</th>\n",
       "      <td>PaymentScreenSuccessful</td>\n",
       "      <td>6217807653094995999</td>\n",
       "      <td>2019-07-25 11:48:42</td>\n",
       "      <td>248</td>\n",
       "      <td>2019-07-25</td>\n",
       "    </tr>\n",
       "    <tr>\n",
       "      <th>...</th>\n",
       "      <td>...</td>\n",
       "      <td>...</td>\n",
       "      <td>...</td>\n",
       "      <td>...</td>\n",
       "      <td>...</td>\n",
       "    </tr>\n",
       "    <tr>\n",
       "      <th>244121</th>\n",
       "      <td>MainScreenAppear</td>\n",
       "      <td>4599628364049201812</td>\n",
       "      <td>2019-08-07 21:12:25</td>\n",
       "      <td>247</td>\n",
       "      <td>2019-08-07</td>\n",
       "    </tr>\n",
       "    <tr>\n",
       "      <th>244122</th>\n",
       "      <td>MainScreenAppear</td>\n",
       "      <td>5849806612437486590</td>\n",
       "      <td>2019-08-07 21:13:59</td>\n",
       "      <td>246</td>\n",
       "      <td>2019-08-07</td>\n",
       "    </tr>\n",
       "    <tr>\n",
       "      <th>244123</th>\n",
       "      <td>MainScreenAppear</td>\n",
       "      <td>5746969938801999050</td>\n",
       "      <td>2019-08-07 21:14:43</td>\n",
       "      <td>246</td>\n",
       "      <td>2019-08-07</td>\n",
       "    </tr>\n",
       "    <tr>\n",
       "      <th>244124</th>\n",
       "      <td>MainScreenAppear</td>\n",
       "      <td>5746969938801999050</td>\n",
       "      <td>2019-08-07 21:14:58</td>\n",
       "      <td>246</td>\n",
       "      <td>2019-08-07</td>\n",
       "    </tr>\n",
       "    <tr>\n",
       "      <th>244125</th>\n",
       "      <td>OffersScreenAppear</td>\n",
       "      <td>5746969938801999050</td>\n",
       "      <td>2019-08-07 21:15:17</td>\n",
       "      <td>246</td>\n",
       "      <td>2019-08-07</td>\n",
       "    </tr>\n",
       "  </tbody>\n",
       "</table>\n",
       "<p>243713 rows × 5 columns</p>\n",
       "</div>"
      ],
      "text/plain": [
       "                          event              user_id          event_time  \\\n",
       "0              MainScreenAppear  4575588528974610257 2019-07-25 04:43:36   \n",
       "1              MainScreenAppear  7416695313311560658 2019-07-25 11:11:42   \n",
       "2       PaymentScreenSuccessful  3518123091307005509 2019-07-25 11:28:47   \n",
       "3              CartScreenAppear  3518123091307005509 2019-07-25 11:28:47   \n",
       "4       PaymentScreenSuccessful  6217807653094995999 2019-07-25 11:48:42   \n",
       "...                         ...                  ...                 ...   \n",
       "244121         MainScreenAppear  4599628364049201812 2019-08-07 21:12:25   \n",
       "244122         MainScreenAppear  5849806612437486590 2019-08-07 21:13:59   \n",
       "244123         MainScreenAppear  5746969938801999050 2019-08-07 21:14:43   \n",
       "244124         MainScreenAppear  5746969938801999050 2019-08-07 21:14:58   \n",
       "244125       OffersScreenAppear  5746969938801999050 2019-08-07 21:15:17   \n",
       "\n",
       "        exp_id        date  \n",
       "0          246  2019-07-25  \n",
       "1          246  2019-07-25  \n",
       "2          248  2019-07-25  \n",
       "3          248  2019-07-25  \n",
       "4          248  2019-07-25  \n",
       "...        ...         ...  \n",
       "244121     247  2019-08-07  \n",
       "244122     246  2019-08-07  \n",
       "244123     246  2019-08-07  \n",
       "244124     246  2019-08-07  \n",
       "244125     246  2019-08-07  \n",
       "\n",
       "[243713 rows x 5 columns]"
      ]
     },
     "execution_count": 18,
     "metadata": {},
     "output_type": "execute_result"
    }
   ],
   "source": [
    "logs"
   ]
  },
  {
   "cell_type": "code",
   "execution_count": 19,
   "id": "bc3ee857-a1ae-4d01-99ba-8e73850e7c40",
   "metadata": {},
   "outputs": [
    {
     "name": "stderr",
     "output_type": "stream",
     "text": [
      "C:\\Users\\dan25\\AppData\\Local\\Temp\\ipykernel_5180\\3943105359.py:2: FutureWarning: Comparison of Timestamp with datetime.date is deprecated in order to match the standard library behavior. In a future version these will be considered non-comparable. Use 'ts == pd.Timestamp(date)' or 'ts.date() == date' instead.\n",
      "  logs = logs[logs['date'] >= date_filter]\n"
     ]
    }
   ],
   "source": [
    "date_filter = pd.to_datetime('2019-08-01')\n",
    "logs = logs[logs['date'] >= date_filter]"
   ]
  },
  {
   "cell_type": "markdown",
   "id": "81c13920-0021-49f8-86cf-aa00311b5fc4",
   "metadata": {},
   "source": [
    "Проверим сколько пользователей и событий мы потеряли после фильтрации."
   ]
  },
  {
   "cell_type": "code",
   "execution_count": 20,
   "id": "c9670c2c-e7ec-4776-9ee5-9a3e6b0b42cf",
   "metadata": {},
   "outputs": [
    {
     "name": "stdout",
     "output_type": "stream",
     "text": [
      "240887\n"
     ]
    },
    {
     "data": {
      "text/plain": [
       "1.16"
      ]
     },
     "execution_count": 20,
     "metadata": {},
     "output_type": "execute_result"
    }
   ],
   "source": [
    "print(logs['event'].count())\n",
    "e_part = ((events - logs['event'].count()) / events) * 100\n",
    "round(e_part,2)"
   ]
  },
  {
   "cell_type": "code",
   "execution_count": 21,
   "id": "033dd91c",
   "metadata": {},
   "outputs": [
    {
     "name": "stdout",
     "output_type": "stream",
     "text": [
      "7534\n"
     ]
    },
    {
     "data": {
      "text/plain": [
       "0.23"
      ]
     },
     "execution_count": 21,
     "metadata": {},
     "output_type": "execute_result"
    }
   ],
   "source": [
    "print(logs['user_id'].nunique())\n",
    "u_part = ((users - logs['user_id'].nunique()) / users)* 100\n",
    "round(u_part,2)"
   ]
  },
  {
   "cell_type": "markdown",
   "id": "f68908d7-a4d7-4dff-91cc-722bd51bcab9",
   "metadata": {},
   "source": [
    "Потери совсем не велики."
   ]
  },
  {
   "cell_type": "markdown",
   "id": "63015a61",
   "metadata": {},
   "source": [
    "<div class=\"alert alert-danger\">\n",
    "\n",
    "**❌ Комментарий ревьюера ❌**\n",
    "   \n",
    "   Стоит также расчитать доли потерь по событиям и уникальным пользователям в процентах\n",
    "\n",
    "</div>\n"
   ]
  },
  {
   "cell_type": "markdown",
   "id": "796726e4",
   "metadata": {},
   "source": [
    "<div class=\"alert alert-block alert-info\">\n",
    "    \n",
    "Добавил\n",
    "    \n",
    "</div>"
   ]
  },
  {
   "cell_type": "markdown",
   "id": "9b443925-e710-4e00-a11e-d54f866411e9",
   "metadata": {},
   "source": [
    "Смотрим сохранились ли у нас пользователи во всех трех эксперементальных группах"
   ]
  },
  {
   "cell_type": "code",
   "execution_count": 22,
   "id": "887c8791-b787-477b-b413-525c12ea6a9c",
   "metadata": {},
   "outputs": [
    {
     "data": {
      "text/plain": [
       "248    84563\n",
       "246    79302\n",
       "247    77022\n",
       "Name: exp_id, dtype: int64"
      ]
     },
     "execution_count": 22,
     "metadata": {},
     "output_type": "execute_result"
    }
   ],
   "source": [
    "logs['exp_id'].value_counts()"
   ]
  },
  {
   "cell_type": "markdown",
   "id": "a6c028f0-f8b7-41fc-8ec1-7cec6034121b",
   "metadata": {},
   "source": [
    "У нас есть дастаточное количество пользователей во всех группах"
   ]
  },
  {
   "cell_type": "markdown",
   "id": "6dbd99cc-4a65-4200-88b8-8d5737197dde",
   "metadata": {},
   "source": [
    "### 4. Изучаем воронку событий"
   ]
  },
  {
   "cell_type": "code",
   "execution_count": 23,
   "id": "27e905a6",
   "metadata": {},
   "outputs": [
    {
     "data": {
      "text/html": [
       "<div>\n",
       "<style scoped>\n",
       "    .dataframe tbody tr th:only-of-type {\n",
       "        vertical-align: middle;\n",
       "    }\n",
       "\n",
       "    .dataframe tbody tr th {\n",
       "        vertical-align: top;\n",
       "    }\n",
       "\n",
       "    .dataframe thead th {\n",
       "        text-align: right;\n",
       "    }\n",
       "</style>\n",
       "<table border=\"1\" class=\"dataframe\">\n",
       "  <thead>\n",
       "    <tr style=\"text-align: right;\">\n",
       "      <th></th>\n",
       "      <th>event</th>\n",
       "      <th>count</th>\n",
       "      <th>nunique</th>\n",
       "      <th>%</th>\n",
       "    </tr>\n",
       "  </thead>\n",
       "  <tbody>\n",
       "    <tr>\n",
       "      <th>1</th>\n",
       "      <td>MainScreenAppear</td>\n",
       "      <td>117328</td>\n",
       "      <td>7419</td>\n",
       "      <td>100.00</td>\n",
       "    </tr>\n",
       "    <tr>\n",
       "      <th>2</th>\n",
       "      <td>OffersScreenAppear</td>\n",
       "      <td>46333</td>\n",
       "      <td>4593</td>\n",
       "      <td>61.91</td>\n",
       "    </tr>\n",
       "    <tr>\n",
       "      <th>0</th>\n",
       "      <td>CartScreenAppear</td>\n",
       "      <td>42303</td>\n",
       "      <td>3734</td>\n",
       "      <td>50.33</td>\n",
       "    </tr>\n",
       "    <tr>\n",
       "      <th>3</th>\n",
       "      <td>PaymentScreenSuccessful</td>\n",
       "      <td>33918</td>\n",
       "      <td>3539</td>\n",
       "      <td>47.70</td>\n",
       "    </tr>\n",
       "    <tr>\n",
       "      <th>4</th>\n",
       "      <td>Tutorial</td>\n",
       "      <td>1005</td>\n",
       "      <td>840</td>\n",
       "      <td>11.32</td>\n",
       "    </tr>\n",
       "  </tbody>\n",
       "</table>\n",
       "</div>"
      ],
      "text/plain": [
       "                     event   count  nunique       %\n",
       "1         MainScreenAppear  117328     7419  100.00\n",
       "2       OffersScreenAppear   46333     4593   61.91\n",
       "0         CartScreenAppear   42303     3734   50.33\n",
       "3  PaymentScreenSuccessful   33918     3539   47.70\n",
       "4                 Tutorial    1005      840   11.32"
      ]
     },
     "execution_count": 23,
     "metadata": {},
     "output_type": "execute_result"
    }
   ],
   "source": [
    "gog = logs.pivot_table(index = 'event', values = 'user_id', aggfunc = {'count' ,'nunique'}).reset_index().sort_values(by = 'nunique', ascending = False)\n",
    "gog['%'] = round((gog['nunique'] / gog.loc[1,'nunique']) * 100, 2)\n",
    "gog\n"
   ]
  },
  {
   "cell_type": "markdown",
   "id": "8c369d94",
   "metadata": {},
   "source": [
    "<div class=\"alert alert-danger\">\n",
    "\n",
    "**❌ Комментарий ревьюера ❌**\n",
    "   \n",
    "   Не рекомендую прописывать числа для расчетов самостоятельно c клавиатуры (7419) - легко допустить ошибку, и расчеты будут не верны. Если же мы получим число непосредственно из данных с помощью кода - такой проблемы не будет \n",
    "   \n",
    "\n",
    "</div>\n"
   ]
  },
  {
   "cell_type": "markdown",
   "id": "1da08887",
   "metadata": {},
   "source": [
    "<div class=\"alert alert-block alert-info\">\n",
    "    \n",
    "Исправил\n",
    "    \n",
    "</div>"
   ]
  },
  {
   "cell_type": "markdown",
   "id": "39f19b4a",
   "metadata": {},
   "source": [
    "События идут в следуещем порядке\n",
    "- MaitScreenAppear - главный экран приложения\n",
    "- Tutorial - обучение использования приложения(обычно у пользоваетеля есть возможность пропустить этот шаг)\n",
    "- OffersScreenAppear - экран с товароми(предложение о покупке)\n",
    "- CartScreenAppear - корзина\n",
    "- PaymentScreenSuccesful - экран успешной оплаты"
   ]
  },
  {
   "cell_type": "markdown",
   "id": "b798d0c2",
   "metadata": {},
   "source": [
    "Среди всех событий стоит не учитывать Tutorial. Из таблицы видно что большенство пользователей поропустило этот шаг. "
   ]
  },
  {
   "cell_type": "markdown",
   "id": "c0c66b99",
   "metadata": {},
   "source": [
    "<div class=\"alert alert-success\">\n",
    "\n",
    "**✔️ Комментарий ревьюера ✔️** \n",
    "   Мы действительно можем не учитывать этап обучения - его посещает наименьшее число пользователей - вероятнее всего, его пропускают\n",
    "</div>\n"
   ]
  },
  {
   "cell_type": "code",
   "execution_count": 24,
   "id": "5ce27e3e",
   "metadata": {},
   "outputs": [],
   "source": [
    "logs = logs[logs['event'] != 'Tutorial']"
   ]
  },
  {
   "cell_type": "code",
   "execution_count": 45,
   "id": "62d078cb",
   "metadata": {},
   "outputs": [],
   "source": [
    "users = logs.pivot_table(index='user_id', \n",
    "                         columns='event', \n",
    "                         values='event_time',\n",
    "                         aggfunc='min')\n",
    "step_1 = ~users['MainScreenAppear'].isna()\n",
    "step_2 = ~users['OffersScreenAppear'].isna()\n",
    "step_3 = step_2 & (users['CartScreenAppear'] > users['OffersScreenAppear'])\n",
    "step_4 = step_3 & (users['PaymentScreenSuccessful'] > users['CartScreenAppear'])\n",
    "\n",
    "n_main_screen = users[step_1].shape[0]\n",
    "n_offer = users[step_2].shape[0]\n",
    "n_cart = users[step_3].shape[0]\n",
    "n_payment_successful = users[step_4].shape[0]"
   ]
  },
  {
   "cell_type": "markdown",
   "id": "200d8685",
   "metadata": {},
   "source": [
    "<div class=\"alert alert-block alert-info\">\n",
    "    \n",
    "не понимаю\n",
    "    \n",
    "</div>"
   ]
  },
  {
   "cell_type": "markdown",
   "id": "b3b2233a",
   "metadata": {},
   "source": [
    "<div class=\"alert alert-danger\">\n",
    "\n",
    "**❌ Комментарий ревьюера ❌**\n",
    "   \n",
    "   Фильтровать события таким образом не стоит, так как у нас нет обязательного условия посещения MainScreenAppear для совершения покупки\n",
    "\n",
    "</div>\n"
   ]
  },
  {
   "cell_type": "code",
   "execution_count": 67,
   "id": "046ce40a",
   "metadata": {},
   "outputs": [
    {
     "data": {
      "application/vnd.plotly.v1+json": {
       "config": {
        "plotlyServerURL": "https://plot.ly"
       },
       "data": [
        {
         "hovertemplate": "number=%{x}<br>event=%{y}<extra></extra>",
         "legendgroup": "",
         "marker": {
          "color": "#636efa"
         },
         "name": "",
         "orientation": "h",
         "showlegend": false,
         "type": "funnel",
         "x": [
          7419,
          4593,
          2020,
          502
         ],
         "xaxis": "x",
         "y": [
          "Главный экран",
          "Экран с товарами",
          "Корзина",
          "Покупка"
         ],
         "yaxis": "y"
        }
       ],
       "layout": {
        "legend": {
         "tracegroupgap": 0
        },
        "margin": {
         "t": 60
        },
        "template": {
         "data": {
          "bar": [
           {
            "error_x": {
             "color": "#2a3f5f"
            },
            "error_y": {
             "color": "#2a3f5f"
            },
            "marker": {
             "line": {
              "color": "#E5ECF6",
              "width": 0.5
             },
             "pattern": {
              "fillmode": "overlay",
              "size": 10,
              "solidity": 0.2
             }
            },
            "type": "bar"
           }
          ],
          "barpolar": [
           {
            "marker": {
             "line": {
              "color": "#E5ECF6",
              "width": 0.5
             },
             "pattern": {
              "fillmode": "overlay",
              "size": 10,
              "solidity": 0.2
             }
            },
            "type": "barpolar"
           }
          ],
          "carpet": [
           {
            "aaxis": {
             "endlinecolor": "#2a3f5f",
             "gridcolor": "white",
             "linecolor": "white",
             "minorgridcolor": "white",
             "startlinecolor": "#2a3f5f"
            },
            "baxis": {
             "endlinecolor": "#2a3f5f",
             "gridcolor": "white",
             "linecolor": "white",
             "minorgridcolor": "white",
             "startlinecolor": "#2a3f5f"
            },
            "type": "carpet"
           }
          ],
          "choropleth": [
           {
            "colorbar": {
             "outlinewidth": 0,
             "ticks": ""
            },
            "type": "choropleth"
           }
          ],
          "contour": [
           {
            "colorbar": {
             "outlinewidth": 0,
             "ticks": ""
            },
            "colorscale": [
             [
              0,
              "#0d0887"
             ],
             [
              0.1111111111111111,
              "#46039f"
             ],
             [
              0.2222222222222222,
              "#7201a8"
             ],
             [
              0.3333333333333333,
              "#9c179e"
             ],
             [
              0.4444444444444444,
              "#bd3786"
             ],
             [
              0.5555555555555556,
              "#d8576b"
             ],
             [
              0.6666666666666666,
              "#ed7953"
             ],
             [
              0.7777777777777778,
              "#fb9f3a"
             ],
             [
              0.8888888888888888,
              "#fdca26"
             ],
             [
              1,
              "#f0f921"
             ]
            ],
            "type": "contour"
           }
          ],
          "contourcarpet": [
           {
            "colorbar": {
             "outlinewidth": 0,
             "ticks": ""
            },
            "type": "contourcarpet"
           }
          ],
          "heatmap": [
           {
            "colorbar": {
             "outlinewidth": 0,
             "ticks": ""
            },
            "colorscale": [
             [
              0,
              "#0d0887"
             ],
             [
              0.1111111111111111,
              "#46039f"
             ],
             [
              0.2222222222222222,
              "#7201a8"
             ],
             [
              0.3333333333333333,
              "#9c179e"
             ],
             [
              0.4444444444444444,
              "#bd3786"
             ],
             [
              0.5555555555555556,
              "#d8576b"
             ],
             [
              0.6666666666666666,
              "#ed7953"
             ],
             [
              0.7777777777777778,
              "#fb9f3a"
             ],
             [
              0.8888888888888888,
              "#fdca26"
             ],
             [
              1,
              "#f0f921"
             ]
            ],
            "type": "heatmap"
           }
          ],
          "heatmapgl": [
           {
            "colorbar": {
             "outlinewidth": 0,
             "ticks": ""
            },
            "colorscale": [
             [
              0,
              "#0d0887"
             ],
             [
              0.1111111111111111,
              "#46039f"
             ],
             [
              0.2222222222222222,
              "#7201a8"
             ],
             [
              0.3333333333333333,
              "#9c179e"
             ],
             [
              0.4444444444444444,
              "#bd3786"
             ],
             [
              0.5555555555555556,
              "#d8576b"
             ],
             [
              0.6666666666666666,
              "#ed7953"
             ],
             [
              0.7777777777777778,
              "#fb9f3a"
             ],
             [
              0.8888888888888888,
              "#fdca26"
             ],
             [
              1,
              "#f0f921"
             ]
            ],
            "type": "heatmapgl"
           }
          ],
          "histogram": [
           {
            "marker": {
             "pattern": {
              "fillmode": "overlay",
              "size": 10,
              "solidity": 0.2
             }
            },
            "type": "histogram"
           }
          ],
          "histogram2d": [
           {
            "colorbar": {
             "outlinewidth": 0,
             "ticks": ""
            },
            "colorscale": [
             [
              0,
              "#0d0887"
             ],
             [
              0.1111111111111111,
              "#46039f"
             ],
             [
              0.2222222222222222,
              "#7201a8"
             ],
             [
              0.3333333333333333,
              "#9c179e"
             ],
             [
              0.4444444444444444,
              "#bd3786"
             ],
             [
              0.5555555555555556,
              "#d8576b"
             ],
             [
              0.6666666666666666,
              "#ed7953"
             ],
             [
              0.7777777777777778,
              "#fb9f3a"
             ],
             [
              0.8888888888888888,
              "#fdca26"
             ],
             [
              1,
              "#f0f921"
             ]
            ],
            "type": "histogram2d"
           }
          ],
          "histogram2dcontour": [
           {
            "colorbar": {
             "outlinewidth": 0,
             "ticks": ""
            },
            "colorscale": [
             [
              0,
              "#0d0887"
             ],
             [
              0.1111111111111111,
              "#46039f"
             ],
             [
              0.2222222222222222,
              "#7201a8"
             ],
             [
              0.3333333333333333,
              "#9c179e"
             ],
             [
              0.4444444444444444,
              "#bd3786"
             ],
             [
              0.5555555555555556,
              "#d8576b"
             ],
             [
              0.6666666666666666,
              "#ed7953"
             ],
             [
              0.7777777777777778,
              "#fb9f3a"
             ],
             [
              0.8888888888888888,
              "#fdca26"
             ],
             [
              1,
              "#f0f921"
             ]
            ],
            "type": "histogram2dcontour"
           }
          ],
          "mesh3d": [
           {
            "colorbar": {
             "outlinewidth": 0,
             "ticks": ""
            },
            "type": "mesh3d"
           }
          ],
          "parcoords": [
           {
            "line": {
             "colorbar": {
              "outlinewidth": 0,
              "ticks": ""
             }
            },
            "type": "parcoords"
           }
          ],
          "pie": [
           {
            "automargin": true,
            "type": "pie"
           }
          ],
          "scatter": [
           {
            "fillpattern": {
             "fillmode": "overlay",
             "size": 10,
             "solidity": 0.2
            },
            "type": "scatter"
           }
          ],
          "scatter3d": [
           {
            "line": {
             "colorbar": {
              "outlinewidth": 0,
              "ticks": ""
             }
            },
            "marker": {
             "colorbar": {
              "outlinewidth": 0,
              "ticks": ""
             }
            },
            "type": "scatter3d"
           }
          ],
          "scattercarpet": [
           {
            "marker": {
             "colorbar": {
              "outlinewidth": 0,
              "ticks": ""
             }
            },
            "type": "scattercarpet"
           }
          ],
          "scattergeo": [
           {
            "marker": {
             "colorbar": {
              "outlinewidth": 0,
              "ticks": ""
             }
            },
            "type": "scattergeo"
           }
          ],
          "scattergl": [
           {
            "marker": {
             "colorbar": {
              "outlinewidth": 0,
              "ticks": ""
             }
            },
            "type": "scattergl"
           }
          ],
          "scattermapbox": [
           {
            "marker": {
             "colorbar": {
              "outlinewidth": 0,
              "ticks": ""
             }
            },
            "type": "scattermapbox"
           }
          ],
          "scatterpolar": [
           {
            "marker": {
             "colorbar": {
              "outlinewidth": 0,
              "ticks": ""
             }
            },
            "type": "scatterpolar"
           }
          ],
          "scatterpolargl": [
           {
            "marker": {
             "colorbar": {
              "outlinewidth": 0,
              "ticks": ""
             }
            },
            "type": "scatterpolargl"
           }
          ],
          "scatterternary": [
           {
            "marker": {
             "colorbar": {
              "outlinewidth": 0,
              "ticks": ""
             }
            },
            "type": "scatterternary"
           }
          ],
          "surface": [
           {
            "colorbar": {
             "outlinewidth": 0,
             "ticks": ""
            },
            "colorscale": [
             [
              0,
              "#0d0887"
             ],
             [
              0.1111111111111111,
              "#46039f"
             ],
             [
              0.2222222222222222,
              "#7201a8"
             ],
             [
              0.3333333333333333,
              "#9c179e"
             ],
             [
              0.4444444444444444,
              "#bd3786"
             ],
             [
              0.5555555555555556,
              "#d8576b"
             ],
             [
              0.6666666666666666,
              "#ed7953"
             ],
             [
              0.7777777777777778,
              "#fb9f3a"
             ],
             [
              0.8888888888888888,
              "#fdca26"
             ],
             [
              1,
              "#f0f921"
             ]
            ],
            "type": "surface"
           }
          ],
          "table": [
           {
            "cells": {
             "fill": {
              "color": "#EBF0F8"
             },
             "line": {
              "color": "white"
             }
            },
            "header": {
             "fill": {
              "color": "#C8D4E3"
             },
             "line": {
              "color": "white"
             }
            },
            "type": "table"
           }
          ]
         },
         "layout": {
          "annotationdefaults": {
           "arrowcolor": "#2a3f5f",
           "arrowhead": 0,
           "arrowwidth": 1
          },
          "autotypenumbers": "strict",
          "coloraxis": {
           "colorbar": {
            "outlinewidth": 0,
            "ticks": ""
           }
          },
          "colorscale": {
           "diverging": [
            [
             0,
             "#8e0152"
            ],
            [
             0.1,
             "#c51b7d"
            ],
            [
             0.2,
             "#de77ae"
            ],
            [
             0.3,
             "#f1b6da"
            ],
            [
             0.4,
             "#fde0ef"
            ],
            [
             0.5,
             "#f7f7f7"
            ],
            [
             0.6,
             "#e6f5d0"
            ],
            [
             0.7,
             "#b8e186"
            ],
            [
             0.8,
             "#7fbc41"
            ],
            [
             0.9,
             "#4d9221"
            ],
            [
             1,
             "#276419"
            ]
           ],
           "sequential": [
            [
             0,
             "#0d0887"
            ],
            [
             0.1111111111111111,
             "#46039f"
            ],
            [
             0.2222222222222222,
             "#7201a8"
            ],
            [
             0.3333333333333333,
             "#9c179e"
            ],
            [
             0.4444444444444444,
             "#bd3786"
            ],
            [
             0.5555555555555556,
             "#d8576b"
            ],
            [
             0.6666666666666666,
             "#ed7953"
            ],
            [
             0.7777777777777778,
             "#fb9f3a"
            ],
            [
             0.8888888888888888,
             "#fdca26"
            ],
            [
             1,
             "#f0f921"
            ]
           ],
           "sequentialminus": [
            [
             0,
             "#0d0887"
            ],
            [
             0.1111111111111111,
             "#46039f"
            ],
            [
             0.2222222222222222,
             "#7201a8"
            ],
            [
             0.3333333333333333,
             "#9c179e"
            ],
            [
             0.4444444444444444,
             "#bd3786"
            ],
            [
             0.5555555555555556,
             "#d8576b"
            ],
            [
             0.6666666666666666,
             "#ed7953"
            ],
            [
             0.7777777777777778,
             "#fb9f3a"
            ],
            [
             0.8888888888888888,
             "#fdca26"
            ],
            [
             1,
             "#f0f921"
            ]
           ]
          },
          "colorway": [
           "#636efa",
           "#EF553B",
           "#00cc96",
           "#ab63fa",
           "#FFA15A",
           "#19d3f3",
           "#FF6692",
           "#B6E880",
           "#FF97FF",
           "#FECB52"
          ],
          "font": {
           "color": "#2a3f5f"
          },
          "geo": {
           "bgcolor": "white",
           "lakecolor": "white",
           "landcolor": "#E5ECF6",
           "showlakes": true,
           "showland": true,
           "subunitcolor": "white"
          },
          "hoverlabel": {
           "align": "left"
          },
          "hovermode": "closest",
          "mapbox": {
           "style": "light"
          },
          "paper_bgcolor": "white",
          "plot_bgcolor": "#E5ECF6",
          "polar": {
           "angularaxis": {
            "gridcolor": "white",
            "linecolor": "white",
            "ticks": ""
           },
           "bgcolor": "#E5ECF6",
           "radialaxis": {
            "gridcolor": "white",
            "linecolor": "white",
            "ticks": ""
           }
          },
          "scene": {
           "xaxis": {
            "backgroundcolor": "#E5ECF6",
            "gridcolor": "white",
            "gridwidth": 2,
            "linecolor": "white",
            "showbackground": true,
            "ticks": "",
            "zerolinecolor": "white"
           },
           "yaxis": {
            "backgroundcolor": "#E5ECF6",
            "gridcolor": "white",
            "gridwidth": 2,
            "linecolor": "white",
            "showbackground": true,
            "ticks": "",
            "zerolinecolor": "white"
           },
           "zaxis": {
            "backgroundcolor": "#E5ECF6",
            "gridcolor": "white",
            "gridwidth": 2,
            "linecolor": "white",
            "showbackground": true,
            "ticks": "",
            "zerolinecolor": "white"
           }
          },
          "shapedefaults": {
           "line": {
            "color": "#2a3f5f"
           }
          },
          "ternary": {
           "aaxis": {
            "gridcolor": "white",
            "linecolor": "white",
            "ticks": ""
           },
           "baxis": {
            "gridcolor": "white",
            "linecolor": "white",
            "ticks": ""
           },
           "bgcolor": "#E5ECF6",
           "caxis": {
            "gridcolor": "white",
            "linecolor": "white",
            "ticks": ""
           }
          },
          "title": {
           "x": 0.05
          },
          "xaxis": {
           "automargin": true,
           "gridcolor": "white",
           "linecolor": "white",
           "ticks": "",
           "title": {
            "standoff": 15
           },
           "zerolinecolor": "white",
           "zerolinewidth": 2
          },
          "yaxis": {
           "automargin": true,
           "gridcolor": "white",
           "linecolor": "white",
           "ticks": "",
           "title": {
            "standoff": 15
           },
           "zerolinecolor": "white",
           "zerolinewidth": 2
          }
         }
        },
        "xaxis": {
         "anchor": "y",
         "domain": [
          0,
          1
         ],
         "title": {
          "text": "number"
         }
        },
        "yaxis": {
         "anchor": "x",
         "domain": [
          0,
          1
         ],
         "title": {
          "text": "event"
         }
        }
       }
      },
      "text/html": [
       "<div>                            <div id=\"46097800-c479-422d-9c78-dc0996f7f06e\" class=\"plotly-graph-div\" style=\"height:525px; width:100%;\"></div>            <script type=\"text/javascript\">                require([\"plotly\"], function(Plotly) {                    window.PLOTLYENV=window.PLOTLYENV || {};                                    if (document.getElementById(\"46097800-c479-422d-9c78-dc0996f7f06e\")) {                    Plotly.newPlot(                        \"46097800-c479-422d-9c78-dc0996f7f06e\",                        [{\"hovertemplate\":\"number=%{x}<br>event=%{y}<extra></extra>\",\"legendgroup\":\"\",\"marker\":{\"color\":\"#636efa\"},\"name\":\"\",\"orientation\":\"h\",\"showlegend\":false,\"x\":[7419,4593,2020,502],\"xaxis\":\"x\",\"y\":[\"\\u0413\\u043b\\u0430\\u0432\\u043d\\u044b\\u0439 \\u044d\\u043a\\u0440\\u0430\\u043d\",\"\\u042d\\u043a\\u0440\\u0430\\u043d \\u0441 \\u0442\\u043e\\u0432\\u0430\\u0440\\u0430\\u043c\\u0438\",\"\\u041a\\u043e\\u0440\\u0437\\u0438\\u043d\\u0430\",\"\\u041f\\u043e\\u043a\\u0443\\u043f\\u043a\\u0430\"],\"yaxis\":\"y\",\"type\":\"funnel\"}],                        {\"template\":{\"data\":{\"histogram2dcontour\":[{\"type\":\"histogram2dcontour\",\"colorbar\":{\"outlinewidth\":0,\"ticks\":\"\"},\"colorscale\":[[0.0,\"#0d0887\"],[0.1111111111111111,\"#46039f\"],[0.2222222222222222,\"#7201a8\"],[0.3333333333333333,\"#9c179e\"],[0.4444444444444444,\"#bd3786\"],[0.5555555555555556,\"#d8576b\"],[0.6666666666666666,\"#ed7953\"],[0.7777777777777778,\"#fb9f3a\"],[0.8888888888888888,\"#fdca26\"],[1.0,\"#f0f921\"]]}],\"choropleth\":[{\"type\":\"choropleth\",\"colorbar\":{\"outlinewidth\":0,\"ticks\":\"\"}}],\"histogram2d\":[{\"type\":\"histogram2d\",\"colorbar\":{\"outlinewidth\":0,\"ticks\":\"\"},\"colorscale\":[[0.0,\"#0d0887\"],[0.1111111111111111,\"#46039f\"],[0.2222222222222222,\"#7201a8\"],[0.3333333333333333,\"#9c179e\"],[0.4444444444444444,\"#bd3786\"],[0.5555555555555556,\"#d8576b\"],[0.6666666666666666,\"#ed7953\"],[0.7777777777777778,\"#fb9f3a\"],[0.8888888888888888,\"#fdca26\"],[1.0,\"#f0f921\"]]}],\"heatmap\":[{\"type\":\"heatmap\",\"colorbar\":{\"outlinewidth\":0,\"ticks\":\"\"},\"colorscale\":[[0.0,\"#0d0887\"],[0.1111111111111111,\"#46039f\"],[0.2222222222222222,\"#7201a8\"],[0.3333333333333333,\"#9c179e\"],[0.4444444444444444,\"#bd3786\"],[0.5555555555555556,\"#d8576b\"],[0.6666666666666666,\"#ed7953\"],[0.7777777777777778,\"#fb9f3a\"],[0.8888888888888888,\"#fdca26\"],[1.0,\"#f0f921\"]]}],\"heatmapgl\":[{\"type\":\"heatmapgl\",\"colorbar\":{\"outlinewidth\":0,\"ticks\":\"\"},\"colorscale\":[[0.0,\"#0d0887\"],[0.1111111111111111,\"#46039f\"],[0.2222222222222222,\"#7201a8\"],[0.3333333333333333,\"#9c179e\"],[0.4444444444444444,\"#bd3786\"],[0.5555555555555556,\"#d8576b\"],[0.6666666666666666,\"#ed7953\"],[0.7777777777777778,\"#fb9f3a\"],[0.8888888888888888,\"#fdca26\"],[1.0,\"#f0f921\"]]}],\"contourcarpet\":[{\"type\":\"contourcarpet\",\"colorbar\":{\"outlinewidth\":0,\"ticks\":\"\"}}],\"contour\":[{\"type\":\"contour\",\"colorbar\":{\"outlinewidth\":0,\"ticks\":\"\"},\"colorscale\":[[0.0,\"#0d0887\"],[0.1111111111111111,\"#46039f\"],[0.2222222222222222,\"#7201a8\"],[0.3333333333333333,\"#9c179e\"],[0.4444444444444444,\"#bd3786\"],[0.5555555555555556,\"#d8576b\"],[0.6666666666666666,\"#ed7953\"],[0.7777777777777778,\"#fb9f3a\"],[0.8888888888888888,\"#fdca26\"],[1.0,\"#f0f921\"]]}],\"surface\":[{\"type\":\"surface\",\"colorbar\":{\"outlinewidth\":0,\"ticks\":\"\"},\"colorscale\":[[0.0,\"#0d0887\"],[0.1111111111111111,\"#46039f\"],[0.2222222222222222,\"#7201a8\"],[0.3333333333333333,\"#9c179e\"],[0.4444444444444444,\"#bd3786\"],[0.5555555555555556,\"#d8576b\"],[0.6666666666666666,\"#ed7953\"],[0.7777777777777778,\"#fb9f3a\"],[0.8888888888888888,\"#fdca26\"],[1.0,\"#f0f921\"]]}],\"mesh3d\":[{\"type\":\"mesh3d\",\"colorbar\":{\"outlinewidth\":0,\"ticks\":\"\"}}],\"scatter\":[{\"fillpattern\":{\"fillmode\":\"overlay\",\"size\":10,\"solidity\":0.2},\"type\":\"scatter\"}],\"parcoords\":[{\"type\":\"parcoords\",\"line\":{\"colorbar\":{\"outlinewidth\":0,\"ticks\":\"\"}}}],\"scatterpolargl\":[{\"type\":\"scatterpolargl\",\"marker\":{\"colorbar\":{\"outlinewidth\":0,\"ticks\":\"\"}}}],\"bar\":[{\"error_x\":{\"color\":\"#2a3f5f\"},\"error_y\":{\"color\":\"#2a3f5f\"},\"marker\":{\"line\":{\"color\":\"#E5ECF6\",\"width\":0.5},\"pattern\":{\"fillmode\":\"overlay\",\"size\":10,\"solidity\":0.2}},\"type\":\"bar\"}],\"scattergeo\":[{\"type\":\"scattergeo\",\"marker\":{\"colorbar\":{\"outlinewidth\":0,\"ticks\":\"\"}}}],\"scatterpolar\":[{\"type\":\"scatterpolar\",\"marker\":{\"colorbar\":{\"outlinewidth\":0,\"ticks\":\"\"}}}],\"histogram\":[{\"marker\":{\"pattern\":{\"fillmode\":\"overlay\",\"size\":10,\"solidity\":0.2}},\"type\":\"histogram\"}],\"scattergl\":[{\"type\":\"scattergl\",\"marker\":{\"colorbar\":{\"outlinewidth\":0,\"ticks\":\"\"}}}],\"scatter3d\":[{\"type\":\"scatter3d\",\"line\":{\"colorbar\":{\"outlinewidth\":0,\"ticks\":\"\"}},\"marker\":{\"colorbar\":{\"outlinewidth\":0,\"ticks\":\"\"}}}],\"scattermapbox\":[{\"type\":\"scattermapbox\",\"marker\":{\"colorbar\":{\"outlinewidth\":0,\"ticks\":\"\"}}}],\"scatterternary\":[{\"type\":\"scatterternary\",\"marker\":{\"colorbar\":{\"outlinewidth\":0,\"ticks\":\"\"}}}],\"scattercarpet\":[{\"type\":\"scattercarpet\",\"marker\":{\"colorbar\":{\"outlinewidth\":0,\"ticks\":\"\"}}}],\"carpet\":[{\"aaxis\":{\"endlinecolor\":\"#2a3f5f\",\"gridcolor\":\"white\",\"linecolor\":\"white\",\"minorgridcolor\":\"white\",\"startlinecolor\":\"#2a3f5f\"},\"baxis\":{\"endlinecolor\":\"#2a3f5f\",\"gridcolor\":\"white\",\"linecolor\":\"white\",\"minorgridcolor\":\"white\",\"startlinecolor\":\"#2a3f5f\"},\"type\":\"carpet\"}],\"table\":[{\"cells\":{\"fill\":{\"color\":\"#EBF0F8\"},\"line\":{\"color\":\"white\"}},\"header\":{\"fill\":{\"color\":\"#C8D4E3\"},\"line\":{\"color\":\"white\"}},\"type\":\"table\"}],\"barpolar\":[{\"marker\":{\"line\":{\"color\":\"#E5ECF6\",\"width\":0.5},\"pattern\":{\"fillmode\":\"overlay\",\"size\":10,\"solidity\":0.2}},\"type\":\"barpolar\"}],\"pie\":[{\"automargin\":true,\"type\":\"pie\"}]},\"layout\":{\"autotypenumbers\":\"strict\",\"colorway\":[\"#636efa\",\"#EF553B\",\"#00cc96\",\"#ab63fa\",\"#FFA15A\",\"#19d3f3\",\"#FF6692\",\"#B6E880\",\"#FF97FF\",\"#FECB52\"],\"font\":{\"color\":\"#2a3f5f\"},\"hovermode\":\"closest\",\"hoverlabel\":{\"align\":\"left\"},\"paper_bgcolor\":\"white\",\"plot_bgcolor\":\"#E5ECF6\",\"polar\":{\"bgcolor\":\"#E5ECF6\",\"angularaxis\":{\"gridcolor\":\"white\",\"linecolor\":\"white\",\"ticks\":\"\"},\"radialaxis\":{\"gridcolor\":\"white\",\"linecolor\":\"white\",\"ticks\":\"\"}},\"ternary\":{\"bgcolor\":\"#E5ECF6\",\"aaxis\":{\"gridcolor\":\"white\",\"linecolor\":\"white\",\"ticks\":\"\"},\"baxis\":{\"gridcolor\":\"white\",\"linecolor\":\"white\",\"ticks\":\"\"},\"caxis\":{\"gridcolor\":\"white\",\"linecolor\":\"white\",\"ticks\":\"\"}},\"coloraxis\":{\"colorbar\":{\"outlinewidth\":0,\"ticks\":\"\"}},\"colorscale\":{\"sequential\":[[0.0,\"#0d0887\"],[0.1111111111111111,\"#46039f\"],[0.2222222222222222,\"#7201a8\"],[0.3333333333333333,\"#9c179e\"],[0.4444444444444444,\"#bd3786\"],[0.5555555555555556,\"#d8576b\"],[0.6666666666666666,\"#ed7953\"],[0.7777777777777778,\"#fb9f3a\"],[0.8888888888888888,\"#fdca26\"],[1.0,\"#f0f921\"]],\"sequentialminus\":[[0.0,\"#0d0887\"],[0.1111111111111111,\"#46039f\"],[0.2222222222222222,\"#7201a8\"],[0.3333333333333333,\"#9c179e\"],[0.4444444444444444,\"#bd3786\"],[0.5555555555555556,\"#d8576b\"],[0.6666666666666666,\"#ed7953\"],[0.7777777777777778,\"#fb9f3a\"],[0.8888888888888888,\"#fdca26\"],[1.0,\"#f0f921\"]],\"diverging\":[[0,\"#8e0152\"],[0.1,\"#c51b7d\"],[0.2,\"#de77ae\"],[0.3,\"#f1b6da\"],[0.4,\"#fde0ef\"],[0.5,\"#f7f7f7\"],[0.6,\"#e6f5d0\"],[0.7,\"#b8e186\"],[0.8,\"#7fbc41\"],[0.9,\"#4d9221\"],[1,\"#276419\"]]},\"xaxis\":{\"gridcolor\":\"white\",\"linecolor\":\"white\",\"ticks\":\"\",\"title\":{\"standoff\":15},\"zerolinecolor\":\"white\",\"automargin\":true,\"zerolinewidth\":2},\"yaxis\":{\"gridcolor\":\"white\",\"linecolor\":\"white\",\"ticks\":\"\",\"title\":{\"standoff\":15},\"zerolinecolor\":\"white\",\"automargin\":true,\"zerolinewidth\":2},\"scene\":{\"xaxis\":{\"backgroundcolor\":\"#E5ECF6\",\"gridcolor\":\"white\",\"linecolor\":\"white\",\"showbackground\":true,\"ticks\":\"\",\"zerolinecolor\":\"white\",\"gridwidth\":2},\"yaxis\":{\"backgroundcolor\":\"#E5ECF6\",\"gridcolor\":\"white\",\"linecolor\":\"white\",\"showbackground\":true,\"ticks\":\"\",\"zerolinecolor\":\"white\",\"gridwidth\":2},\"zaxis\":{\"backgroundcolor\":\"#E5ECF6\",\"gridcolor\":\"white\",\"linecolor\":\"white\",\"showbackground\":true,\"ticks\":\"\",\"zerolinecolor\":\"white\",\"gridwidth\":2}},\"shapedefaults\":{\"line\":{\"color\":\"#2a3f5f\"}},\"annotationdefaults\":{\"arrowcolor\":\"#2a3f5f\",\"arrowhead\":0,\"arrowwidth\":1},\"geo\":{\"bgcolor\":\"white\",\"landcolor\":\"#E5ECF6\",\"subunitcolor\":\"white\",\"showland\":true,\"showlakes\":true,\"lakecolor\":\"white\"},\"title\":{\"x\":0.05},\"mapbox\":{\"style\":\"light\"}}},\"xaxis\":{\"anchor\":\"y\",\"domain\":[0.0,1.0],\"title\":{\"text\":\"number\"}},\"yaxis\":{\"anchor\":\"x\",\"domain\":[0.0,1.0],\"title\":{\"text\":\"event\"}},\"legend\":{\"tracegroupgap\":0},\"margin\":{\"t\":60}},                        {\"responsive\": true}                    ).then(function(){\n",
       "                            \n",
       "var gd = document.getElementById('46097800-c479-422d-9c78-dc0996f7f06e');\n",
       "var x = new MutationObserver(function (mutations, observer) {{\n",
       "        var display = window.getComputedStyle(gd).display;\n",
       "        if (!display || display === 'none') {{\n",
       "            console.log([gd, 'removed!']);\n",
       "            Plotly.purge(gd);\n",
       "            observer.disconnect();\n",
       "        }}\n",
       "}});\n",
       "\n",
       "// Listen for the removal of the full notebook cells\n",
       "var notebookContainer = gd.closest('#notebook-container');\n",
       "if (notebookContainer) {{\n",
       "    x.observe(notebookContainer, {childList: true});\n",
       "}}\n",
       "\n",
       "// Listen for the clearing of the current output cell\n",
       "var outputEl = gd.closest('.output');\n",
       "if (outputEl) {{\n",
       "    x.observe(outputEl, {childList: true});\n",
       "}}\n",
       "\n",
       "                        })                };                });            </script>        </div>"
      ]
     },
     "metadata": {},
     "output_type": "display_data"
    }
   ],
   "source": [
    "import plotly.express as px\n",
    "title = {\"position\": \"top center\", \"text\": \"Sales for Sale Person A in U.S.\"}\n",
    "data = dict(\n",
    "    number=[n_main_screen,n_offer,n_cart,n_payment_successful],\n",
    "    event=[\"Главный экран\", \"Экран с товарами\", \"Корзина\", \"Покупка\"])\n",
    "fig = px.funnel(data, x='number', y='event')\n",
    "fig.show()"
   ]
  },
  {
   "cell_type": "markdown",
   "id": "557c045f",
   "metadata": {},
   "source": [
    "<div class=\"alert alert-danger\">\n",
    "\n",
    "**❌ Комментарий ревьюера ❌**\n",
    "   \n",
    "   А зачем использовать циклы? Вот отличная статья по построению воронок в plotly: https://habr.com/ru/company/otus/blog/588190/ - единственное, в ней данные для построения задаются вручную - а этого стоит избегать во избежание случайных ошибок. Также не забудь добавить заголовок у воронки\n",
    "\n",
    "</div>\n"
   ]
  },
  {
   "cell_type": "markdown",
   "id": "a066d0d1",
   "metadata": {},
   "source": [
    "<div class=\"alert alert-block alert-info\">\n",
    "    \n",
    "Прошлый тоже брал с хабра. \n",
    "    \n",
    "</div>"
   ]
  },
  {
   "cell_type": "code",
   "execution_count": 47,
   "id": "21de261e",
   "metadata": {},
   "outputs": [
    {
     "name": "stdout",
     "output_type": "stream",
     "text": [
      "Главный экран: 100.0\n",
      "Экран предложения: 61.908613020622724\n",
      "Переход к корзине: 43.97996951883301\n",
      "Оплата: 24.85148514851485\n"
     ]
    }
   ],
   "source": [
    "print('Главный экран:', (n_main_screen / n_main_screen) * 100)\n",
    "print('Экран предложения:', (n_offer / n_main_screen) * 100)\n",
    "print('Переход к корзине:', (n_cart / n_offer) * 100)\n",
    "print('Оплата:', (n_payment_successful / n_cart) * 100)"
   ]
  },
  {
   "cell_type": "markdown",
   "id": "8487d25b",
   "metadata": {},
   "source": [
    "Только 454 пользователя дошли от начала до конца, \"посетив\" все этапы.\n",
    "Все остальные пользователи не начинают с начала"
   ]
  },
  {
   "cell_type": "markdown",
   "id": "6103faec",
   "metadata": {},
   "source": [
    "### 5. Результаты эксперимента "
   ]
  },
  {
   "cell_type": "code",
   "execution_count": null,
   "id": "ba44e4af",
   "metadata": {},
   "outputs": [],
   "source": [
    "logs.groupby('exp_id')['user_id'].nunique().to_frame()"
   ]
  },
  {
   "cell_type": "markdown",
   "id": "1787a373",
   "metadata": {},
   "source": [
    "<div class=\"alert alert-danger\">\n",
    "\n",
    "**❌ Комментарий ревьюера ❌**\n",
    "   \n",
    "   Стоит проверить, чтобы каждый пользователь принадлежал только одной группе\n",
    "</div>\n"
   ]
  },
  {
   "cell_type": "code",
   "execution_count": null,
   "id": "a72fbb90",
   "metadata": {},
   "outputs": [],
   "source": [
    "users_by_events = logs.pivot_table(index = 'exp_id',\n",
    "                                   columns = 'event',\n",
    "                                   values = 'user_id',\n",
    "                                   aggfunc = 'nunique').reset_index()\n",
    "users_by_events"
   ]
  },
  {
   "cell_type": "code",
   "execution_count": null,
   "id": "d005e02b",
   "metadata": {},
   "outputs": [],
   "source": [
    "users_count = logs.groupby('exp_id')['user_id'].nunique()\n",
    "users_by_events['users_count'] = users_by_events['exp_id'].apply(lambda x: users_count.loc[x])\n",
    "users_by_events = users_by_events.set_index('exp_id')\n",
    "users_by_events"
   ]
  },
  {
   "cell_type": "code",
   "execution_count": null,
   "id": "2f1233e9",
   "metadata": {},
   "outputs": [],
   "source": [
    "\n",
    "new_row = users_by_events.loc[246] + users_by_events.loc[247]\n",
    "new_row.name = '246_247'\n",
    "users_by_events = users_by_events.append([new_row])\n",
    "users_by_events = users_by_events[['MainScreenAppear', 'OffersScreenAppear',\n",
    "                                   'CartScreenAppear', 'PaymentScreenSuccessful', 'users_count']]\n",
    "users_by_events = users_by_events.reindex([246, 247, '246_247', 248])\n",
    "users_by_events"
   ]
  },
  {
   "cell_type": "code",
   "execution_count": null,
   "id": "e9e4aa23",
   "metadata": {},
   "outputs": [],
   "source": [
    "alpha = .01\n",
    "\n",
    "#создадим ф-цию для проверки различий\n",
    "\n",
    "def p_estimation (new, previous):\n",
    "    # пропорция успехов в первой группе\n",
    "    p_first = new[0]/previous[0]\n",
    "    # пропорция успехов во второй группе\n",
    "    p_second = new[1]/previous[1]\n",
    "    # пропорция успехов в комбинированном датасете\n",
    "    p_combined = (new[0] + new[1]) / (previous[0] + previous[1])\n",
    "    # разница пропорций\n",
    "    difference = p_first - p_second\n",
    "    # считаем статистику в отклонениях стандратного норм.распеделения\n",
    "    z_value = (difference / mth.sqrt(p_combined*(1 - p_combined)\n",
    "                                    * (1/previous[0] + 1/previous[1])))\n",
    "    # задаем стандартное норм.распределение\n",
    "    distr = st.norm(0, 1)\n",
    "    \n",
    "    p_value = (1 - distr.cdf(abs(z_value)))*2\n",
    "    \n",
    "    print('р-значение:', p_value)\n",
    "    if (p_value < alpha):\n",
    "        print(\"значимая разница\")\n",
    "    else:\n",
    "        print(\"нету разницы\")"
   ]
  },
  {
   "cell_type": "code",
   "execution_count": null,
   "id": "611bae95",
   "metadata": {},
   "outputs": [],
   "source": [
    "p_estimation(new = np.array([3062, 1531]), previous = np.array([4926, 2493]))\n",
    "p_estimation(new = np.array([2504, 1230]), previous = np.array([3062, 1531]))\n",
    "p_estimation(new = np.array([2358, 1181]), previous = np.array([2504, 1230])) \n",
    "print('Bсе комбинации между объедененными группами А1/А2 и группой В')\n",
    "print('-------------------------------------------------------------------')\n",
    "# проверяем все комбинации между группами 246 и 247\n",
    "\n",
    "p_estimation(new = np.array([1542, 1520]), previous = np.array([2450, 2476]))\n",
    "p_estimation(new = np.array([1266, 1238]), previous = np.array([1542, 1520]))\n",
    "p_estimation(new = np.array([1200, 1158]), previous = np.array([1266, 1238]))\n",
    "print('Bсе комбинации между группами 246 и 247')\n",
    "print('-------------------------------------------------------------------')\n",
    "\n",
    "# между группами 246 и 248\n",
    "\n",
    "p_estimation(new = np.array([1542, 1531]), previous = np.array([2450, 2493]))\n",
    "p_estimation(new = np.array([1266, 1230]), previous = np.array([1542, 1531]))\n",
    "p_estimation(new = np.array([1200, 1181]), previous = np.array([1266, 1230]))\n",
    "print('Bсе комбинации между группами 246 и 248')\n",
    "print('-------------------------------------------------------------------')\n",
    "\n",
    "# между группами 247 и 248\n",
    "\n",
    "p_estimation(new = np.array([1520, 1531]), previous = np.array([2476, 2493]))\n",
    "p_estimation(new = np.array([1238, 1230]), previous = np.array([1520, 1531]))\n",
    "p_estimation(new = np.array([1158, 1181]), previous = np.array([1238, 1230]))\n",
    "print('Bсе комбинации между группами 247 и 248')\n"
   ]
  },
  {
   "cell_type": "markdown",
   "id": "94f43c5c",
   "metadata": {},
   "source": [
    "<div class=\"alert alert-danger\">\n",
    "\n",
    "**❌ Комментарий ревьюера ❌**\n",
    "   \n",
    "   Здесь также ручной ввод, который нужно устранить. Почему у нас всего 12 проверок? Мы проверяем последовательно по 4 события в каждом из сравнений групп. Сначала смотрим, какая доля пользователей от общего числа пользователей в группе 246 посещает MainScreen и сравниваем ее с аналогичной долей 247. Затем CartScreen и так далее. Мы проверяем не конверсии с предыдущего этапа\n",
    "\n",
    "</div>\n"
   ]
  },
  {
   "cell_type": "markdown",
   "id": "a3950b54",
   "metadata": {},
   "source": [
    "При условии alpha .01 - значимая разница для комбинации между группами 247 и 248 для событий PaymentScreenSuccessful | CartScreenAppear\n"
   ]
  },
  {
   "cell_type": "markdown",
   "id": "813ff197",
   "metadata": {},
   "source": [
    "- Общее кол-ство событий в логах - 244126\n",
    "- Кол-ство пользователей - 7551\n",
    "- Технически в логи новых дней по некоторым пользователям могут «доезжать» события из прошлого — это может «перекашивать данные», поэтому мы сделали срез и фактический диапазон дат стал с 1.08.2019 - 7.08.2019\n",
    "- Самое популярное событие - MainScreenAppear\n",
    "- Событие, которое реже всего используется пользователями - Tutorial\n",
    "- Как видим, цепочка выглядит как MainScreenAppear (главный экран) > OffersScreenAppear (экран предложения) > CartScreenAppear (корзина) > PaymentScreenSuccessful (старница успешной оплаты) сам же этам Tutorial (руководство) редко используется пользователями"
   ]
  },
  {
   "cell_type": "markdown",
   "id": "b267c123",
   "metadata": {},
   "source": [
    "<div class=\"alert alert-success\">\n",
    "\n",
    "**✔️ Комментарий ревьюера ✔️**\n",
    "   \n",
    "   Даниил, проведен основательный и подробный анализ. Все наглядно - графики и гистограммы подтверждают обоснованные выводы. Учти мои замечания. Возможно, придется немного подправить выводы. Жду твой проект на повторное ревью. Успехов!\n",
    "\n",
    "</div>\n"
   ]
  },
  {
   "cell_type": "code",
   "execution_count": null,
   "id": "de967569",
   "metadata": {},
   "outputs": [],
   "source": []
  }
 ],
 "metadata": {
  "ExecuteTimeLog": [
   {
    "duration": 1275,
    "start_time": "2023-07-05T14:26:39.596Z"
   },
   {
    "duration": 792,
    "start_time": "2023-07-05T14:26:40.873Z"
   },
   {
    "duration": 14,
    "start_time": "2023-07-05T14:26:41.667Z"
   },
   {
    "duration": 22,
    "start_time": "2023-07-05T14:26:41.683Z"
   },
   {
    "duration": 12,
    "start_time": "2023-07-05T14:26:41.707Z"
   },
   {
    "duration": 12,
    "start_time": "2023-07-05T14:26:41.721Z"
   },
   {
    "duration": 32,
    "start_time": "2023-07-05T14:26:41.734Z"
   },
   {
    "duration": 72,
    "start_time": "2023-07-05T14:26:41.768Z"
   },
   {
    "duration": 78,
    "start_time": "2023-07-05T14:26:41.841Z"
   },
   {
    "duration": 78,
    "start_time": "2023-07-05T14:26:41.922Z"
   },
   {
    "duration": 16,
    "start_time": "2023-07-05T14:26:42.014Z"
   },
   {
    "duration": 16,
    "start_time": "2023-07-05T14:26:42.032Z"
   },
   {
    "duration": 12,
    "start_time": "2023-07-05T14:26:42.049Z"
   },
   {
    "duration": 24,
    "start_time": "2023-07-05T14:26:42.063Z"
   },
   {
    "duration": 49,
    "start_time": "2023-07-05T14:26:42.089Z"
   },
   {
    "duration": 17,
    "start_time": "2023-07-05T14:26:42.140Z"
   },
   {
    "duration": 320,
    "start_time": "2023-07-05T14:26:42.159Z"
   },
   {
    "duration": 14,
    "start_time": "2023-07-05T14:26:42.481Z"
   },
   {
    "duration": 50,
    "start_time": "2023-07-05T14:26:42.496Z"
   },
   {
    "duration": 11,
    "start_time": "2023-07-05T14:26:42.548Z"
   },
   {
    "duration": 26,
    "start_time": "2023-07-05T14:26:42.560Z"
   },
   {
    "duration": 15,
    "start_time": "2023-07-05T14:26:42.588Z"
   },
   {
    "duration": 19,
    "start_time": "2023-07-05T14:26:42.604Z"
   },
   {
    "duration": 103,
    "start_time": "2023-07-05T14:26:42.624Z"
   },
   {
    "duration": 22,
    "start_time": "2023-07-05T14:26:42.729Z"
   },
   {
    "duration": 61,
    "start_time": "2023-07-05T14:26:42.752Z"
   },
   {
    "duration": 100,
    "start_time": "2023-07-05T14:26:42.815Z"
   },
   {
    "duration": 5,
    "start_time": "2023-07-05T14:26:42.919Z"
   },
   {
    "duration": 32,
    "start_time": "2023-07-05T14:26:42.926Z"
   },
   {
    "duration": 89,
    "start_time": "2023-07-05T14:26:42.960Z"
   },
   {
    "duration": 34,
    "start_time": "2023-07-05T14:26:43.051Z"
   },
   {
    "duration": 29,
    "start_time": "2023-07-05T14:26:43.086Z"
   },
   {
    "duration": 5,
    "start_time": "2023-07-05T14:26:43.117Z"
   },
   {
    "duration": 30,
    "start_time": "2023-07-05T14:26:43.124Z"
   },
   {
    "duration": 1242,
    "start_time": "2023-07-05T14:29:05.316Z"
   },
   {
    "duration": 140,
    "start_time": "2023-07-05T14:29:06.560Z"
   },
   {
    "duration": 12,
    "start_time": "2023-07-05T14:29:06.702Z"
   },
   {
    "duration": 19,
    "start_time": "2023-07-05T14:29:06.716Z"
   },
   {
    "duration": 12,
    "start_time": "2023-07-05T14:29:06.737Z"
   },
   {
    "duration": 10,
    "start_time": "2023-07-05T14:29:06.751Z"
   },
   {
    "duration": 20,
    "start_time": "2023-07-05T14:29:06.762Z"
   },
   {
    "duration": 74,
    "start_time": "2023-07-05T14:29:06.784Z"
   },
   {
    "duration": 73,
    "start_time": "2023-07-05T14:29:06.859Z"
   },
   {
    "duration": 71,
    "start_time": "2023-07-05T14:29:06.934Z"
   },
   {
    "duration": 13,
    "start_time": "2023-07-05T14:29:07.014Z"
   },
   {
    "duration": 13,
    "start_time": "2023-07-05T14:29:07.028Z"
   },
   {
    "duration": 9,
    "start_time": "2023-07-05T14:29:07.043Z"
   },
   {
    "duration": 3,
    "start_time": "2023-07-05T14:29:07.054Z"
   },
   {
    "duration": 22,
    "start_time": "2023-07-05T14:29:07.059Z"
   },
   {
    "duration": 37,
    "start_time": "2023-07-05T14:29:07.082Z"
   },
   {
    "duration": 264,
    "start_time": "2023-07-05T14:29:07.120Z"
   },
   {
    "duration": 13,
    "start_time": "2023-07-05T14:29:07.386Z"
   },
   {
    "duration": 40,
    "start_time": "2023-07-05T14:29:07.401Z"
   },
   {
    "duration": 11,
    "start_time": "2023-07-05T14:29:07.442Z"
   },
   {
    "duration": 10,
    "start_time": "2023-07-05T14:29:07.454Z"
   },
   {
    "duration": 6,
    "start_time": "2023-07-05T14:29:07.465Z"
   },
   {
    "duration": 3,
    "start_time": "2023-07-05T14:29:07.472Z"
   },
   {
    "duration": 111,
    "start_time": "2023-07-05T14:29:07.476Z"
   },
   {
    "duration": 30,
    "start_time": "2023-07-05T14:29:07.588Z"
   },
   {
    "duration": 53,
    "start_time": "2023-07-05T14:29:07.619Z"
   },
   {
    "duration": 96,
    "start_time": "2023-07-05T14:29:07.674Z"
   },
   {
    "duration": 5,
    "start_time": "2023-07-05T14:29:07.772Z"
   },
   {
    "duration": 43,
    "start_time": "2023-07-05T14:29:07.778Z"
   },
   {
    "duration": 67,
    "start_time": "2023-07-05T14:29:07.823Z"
   },
   {
    "duration": 44,
    "start_time": "2023-07-05T14:29:07.891Z"
   },
   {
    "duration": 11,
    "start_time": "2023-07-05T14:29:07.936Z"
   },
   {
    "duration": 6,
    "start_time": "2023-07-05T14:29:07.949Z"
   },
   {
    "duration": 27,
    "start_time": "2023-07-05T14:29:07.957Z"
   }
  ],
  "kernelspec": {
   "display_name": "Python 3 (ipykernel)",
   "language": "python",
   "name": "python3"
  },
  "language_info": {
   "codemirror_mode": {
    "name": "ipython",
    "version": 3
   },
   "file_extension": ".py",
   "mimetype": "text/x-python",
   "name": "python",
   "nbconvert_exporter": "python",
   "pygments_lexer": "ipython3",
   "version": "3.10.9"
  },
  "toc": {
   "base_numbering": 1,
   "nav_menu": {},
   "number_sections": true,
   "sideBar": true,
   "skip_h1_title": true,
   "title_cell": "Table of Contents",
   "title_sidebar": "Contents",
   "toc_cell": false,
   "toc_position": {},
   "toc_section_display": true,
   "toc_window_display": false
  }
 },
 "nbformat": 4,
 "nbformat_minor": 5
}
