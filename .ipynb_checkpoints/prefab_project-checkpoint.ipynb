{
 "cells": [
  {
   "cell_type": "markdown",
   "id": "57e37d15",
   "metadata": {},
   "source": [
    "# Сборный проект-2 "
   ]
  },
  {
   "cell_type": "markdown",
   "id": "579b5302",
   "metadata": {},
   "source": [
    "## Описание проекта"
   ]
  },
  {
   "cell_type": "markdown",
   "id": "4493f914",
   "metadata": {},
   "source": [
    "Мы работаем в стартапе, который продает продукты питания."
   ]
  },
  {
   "cell_type": "markdown",
   "id": "206702df",
   "metadata": {},
   "source": [
    "## Описание данных"
   ]
  },
  {
   "cell_type": "markdown",
   "id": "a6acec95",
   "metadata": {},
   "source": [
    "Каждая запись в логе — это действие пользователя, или событие. \n",
    "- EventName — название события;\n",
    "- DeviceIDHash — уникальный идентификатор пользователя;\n",
    "- EventTimestamp — время события;\n",
    "- ExpId — номер эксперимента: 246 и 247 — контрольные группы, а 248 — экспериментальная."
   ]
  },
  {
   "cell_type": "markdown",
   "id": "2176d67e",
   "metadata": {},
   "source": [
    "### Цель проекта"
   ]
  },
  {
   "cell_type": "markdown",
   "id": "b17dfc47",
   "metadata": {},
   "source": [
    "Понять как пользоваетли ведут себя нашего мобильного приложения. "
   ]
  },
  {
   "cell_type": "markdown",
   "id": "1b532aad",
   "metadata": {},
   "source": [
    "### План работы"
   ]
  },
  {
   "cell_type": "markdown",
   "id": "e4bad31e",
   "metadata": {},
   "source": [
    "#### 1. Изучить данные \n",
    "#### 2. Предобработка данных\n",
    "#### 3. Изучить воронку событий\n",
    "#### 4. Изучить результаты эксперемнта\n"
   ]
  },
  {
   "cell_type": "markdown",
   "id": "a4047fea",
   "metadata": {
    "tags": []
   },
   "source": [
    "### 1. Изучаем данные"
   ]
  },
  {
   "cell_type": "markdown",
   "id": "da405881",
   "metadata": {},
   "source": [
    "Импортируем библиотеки"
   ]
  },
  {
   "cell_type": "code",
   "execution_count": 1,
   "id": "74b1d8e7",
   "metadata": {},
   "outputs": [],
   "source": [
    "import pandas as pd"
   ]
  },
  {
   "cell_type": "markdown",
   "id": "b8f5e465",
   "metadata": {},
   "source": [
    "Читаем таблицу"
   ]
  },
  {
   "cell_type": "code",
   "execution_count": 2,
   "id": "b26dd9c6",
   "metadata": {},
   "outputs": [],
   "source": [
    "logs = pd.read_csv('datasets\\logs_exp.csv', sep = '\\t')"
   ]
  },
  {
   "cell_type": "markdown",
   "id": "f9ec4fd0",
   "metadata": {},
   "source": [
    "Выводим первые пять строк таблицы"
   ]
  },
  {
   "cell_type": "code",
   "execution_count": 3,
   "id": "7c5be1de",
   "metadata": {},
   "outputs": [
    {
     "data": {
      "text/html": [
       "<div>\n",
       "<style scoped>\n",
       "    .dataframe tbody tr th:only-of-type {\n",
       "        vertical-align: middle;\n",
       "    }\n",
       "\n",
       "    .dataframe tbody tr th {\n",
       "        vertical-align: top;\n",
       "    }\n",
       "\n",
       "    .dataframe thead th {\n",
       "        text-align: right;\n",
       "    }\n",
       "</style>\n",
       "<table border=\"1\" class=\"dataframe\">\n",
       "  <thead>\n",
       "    <tr style=\"text-align: right;\">\n",
       "      <th></th>\n",
       "      <th>EventName</th>\n",
       "      <th>DeviceIDHash</th>\n",
       "      <th>EventTimestamp</th>\n",
       "      <th>ExpId</th>\n",
       "    </tr>\n",
       "  </thead>\n",
       "  <tbody>\n",
       "    <tr>\n",
       "      <th>0</th>\n",
       "      <td>MainScreenAppear</td>\n",
       "      <td>4575588528974610257</td>\n",
       "      <td>1564029816</td>\n",
       "      <td>246</td>\n",
       "    </tr>\n",
       "    <tr>\n",
       "      <th>1</th>\n",
       "      <td>MainScreenAppear</td>\n",
       "      <td>7416695313311560658</td>\n",
       "      <td>1564053102</td>\n",
       "      <td>246</td>\n",
       "    </tr>\n",
       "    <tr>\n",
       "      <th>2</th>\n",
       "      <td>PaymentScreenSuccessful</td>\n",
       "      <td>3518123091307005509</td>\n",
       "      <td>1564054127</td>\n",
       "      <td>248</td>\n",
       "    </tr>\n",
       "    <tr>\n",
       "      <th>3</th>\n",
       "      <td>CartScreenAppear</td>\n",
       "      <td>3518123091307005509</td>\n",
       "      <td>1564054127</td>\n",
       "      <td>248</td>\n",
       "    </tr>\n",
       "    <tr>\n",
       "      <th>4</th>\n",
       "      <td>PaymentScreenSuccessful</td>\n",
       "      <td>6217807653094995999</td>\n",
       "      <td>1564055322</td>\n",
       "      <td>248</td>\n",
       "    </tr>\n",
       "  </tbody>\n",
       "</table>\n",
       "</div>"
      ],
      "text/plain": [
       "                 EventName         DeviceIDHash  EventTimestamp  ExpId\n",
       "0         MainScreenAppear  4575588528974610257      1564029816    246\n",
       "1         MainScreenAppear  7416695313311560658      1564053102    246\n",
       "2  PaymentScreenSuccessful  3518123091307005509      1564054127    248\n",
       "3         CartScreenAppear  3518123091307005509      1564054127    248\n",
       "4  PaymentScreenSuccessful  6217807653094995999      1564055322    248"
      ]
     },
     "execution_count": 3,
     "metadata": {},
     "output_type": "execute_result"
    }
   ],
   "source": [
    "logs.head(5)"
   ]
  },
  {
   "cell_type": "markdown",
   "id": "03037864",
   "metadata": {},
   "source": [
    "Смотрим информацию о таблице"
   ]
  },
  {
   "cell_type": "code",
   "execution_count": 4,
   "id": "a26ac0ed",
   "metadata": {},
   "outputs": [
    {
     "name": "stdout",
     "output_type": "stream",
     "text": [
      "<class 'pandas.core.frame.DataFrame'>\n",
      "RangeIndex: 244126 entries, 0 to 244125\n",
      "Data columns (total 4 columns):\n",
      " #   Column          Non-Null Count   Dtype \n",
      "---  ------          --------------   ----- \n",
      " 0   EventName       244126 non-null  object\n",
      " 1   DeviceIDHash    244126 non-null  int64 \n",
      " 2   EventTimestamp  244126 non-null  int64 \n",
      " 3   ExpId           244126 non-null  int64 \n",
      "dtypes: int64(3), object(1)\n",
      "memory usage: 7.5+ MB\n"
     ]
    }
   ],
   "source": [
    "logs.info()"
   ]
  },
  {
   "cell_type": "markdown",
   "id": "fb8ea0e7",
   "metadata": {
    "tags": []
   },
   "source": [
    "### 2. Предобработка данных"
   ]
  },
  {
   "cell_type": "markdown",
   "id": "d8f8582d",
   "metadata": {},
   "source": [
    "Меняем названия столбцов"
   ]
  },
  {
   "cell_type": "code",
   "execution_count": 5,
   "id": "2f509e57",
   "metadata": {},
   "outputs": [],
   "source": [
    "logs = logs.rename(columns = {'EventName':'event', 'DeviceIDHash':'user_id', 'EventTimestamp': 'event_time', 'ExpId': 'exp_id'})"
   ]
  },
  {
   "cell_type": "code",
   "execution_count": 6,
   "id": "57bf8639",
   "metadata": {},
   "outputs": [
    {
     "data": {
      "text/html": [
       "<div>\n",
       "<style scoped>\n",
       "    .dataframe tbody tr th:only-of-type {\n",
       "        vertical-align: middle;\n",
       "    }\n",
       "\n",
       "    .dataframe tbody tr th {\n",
       "        vertical-align: top;\n",
       "    }\n",
       "\n",
       "    .dataframe thead th {\n",
       "        text-align: right;\n",
       "    }\n",
       "</style>\n",
       "<table border=\"1\" class=\"dataframe\">\n",
       "  <thead>\n",
       "    <tr style=\"text-align: right;\">\n",
       "      <th></th>\n",
       "      <th>event</th>\n",
       "      <th>user_id</th>\n",
       "      <th>event_time</th>\n",
       "      <th>exp_id</th>\n",
       "    </tr>\n",
       "  </thead>\n",
       "  <tbody>\n",
       "    <tr>\n",
       "      <th>0</th>\n",
       "      <td>MainScreenAppear</td>\n",
       "      <td>4575588528974610257</td>\n",
       "      <td>1564029816</td>\n",
       "      <td>246</td>\n",
       "    </tr>\n",
       "    <tr>\n",
       "      <th>1</th>\n",
       "      <td>MainScreenAppear</td>\n",
       "      <td>7416695313311560658</td>\n",
       "      <td>1564053102</td>\n",
       "      <td>246</td>\n",
       "    </tr>\n",
       "    <tr>\n",
       "      <th>2</th>\n",
       "      <td>PaymentScreenSuccessful</td>\n",
       "      <td>3518123091307005509</td>\n",
       "      <td>1564054127</td>\n",
       "      <td>248</td>\n",
       "    </tr>\n",
       "    <tr>\n",
       "      <th>3</th>\n",
       "      <td>CartScreenAppear</td>\n",
       "      <td>3518123091307005509</td>\n",
       "      <td>1564054127</td>\n",
       "      <td>248</td>\n",
       "    </tr>\n",
       "    <tr>\n",
       "      <th>4</th>\n",
       "      <td>PaymentScreenSuccessful</td>\n",
       "      <td>6217807653094995999</td>\n",
       "      <td>1564055322</td>\n",
       "      <td>248</td>\n",
       "    </tr>\n",
       "    <tr>\n",
       "      <th>...</th>\n",
       "      <td>...</td>\n",
       "      <td>...</td>\n",
       "      <td>...</td>\n",
       "      <td>...</td>\n",
       "    </tr>\n",
       "    <tr>\n",
       "      <th>244121</th>\n",
       "      <td>MainScreenAppear</td>\n",
       "      <td>4599628364049201812</td>\n",
       "      <td>1565212345</td>\n",
       "      <td>247</td>\n",
       "    </tr>\n",
       "    <tr>\n",
       "      <th>244122</th>\n",
       "      <td>MainScreenAppear</td>\n",
       "      <td>5849806612437486590</td>\n",
       "      <td>1565212439</td>\n",
       "      <td>246</td>\n",
       "    </tr>\n",
       "    <tr>\n",
       "      <th>244123</th>\n",
       "      <td>MainScreenAppear</td>\n",
       "      <td>5746969938801999050</td>\n",
       "      <td>1565212483</td>\n",
       "      <td>246</td>\n",
       "    </tr>\n",
       "    <tr>\n",
       "      <th>244124</th>\n",
       "      <td>MainScreenAppear</td>\n",
       "      <td>5746969938801999050</td>\n",
       "      <td>1565212498</td>\n",
       "      <td>246</td>\n",
       "    </tr>\n",
       "    <tr>\n",
       "      <th>244125</th>\n",
       "      <td>OffersScreenAppear</td>\n",
       "      <td>5746969938801999050</td>\n",
       "      <td>1565212517</td>\n",
       "      <td>246</td>\n",
       "    </tr>\n",
       "  </tbody>\n",
       "</table>\n",
       "<p>244126 rows × 4 columns</p>\n",
       "</div>"
      ],
      "text/plain": [
       "                          event              user_id  event_time  exp_id\n",
       "0              MainScreenAppear  4575588528974610257  1564029816     246\n",
       "1              MainScreenAppear  7416695313311560658  1564053102     246\n",
       "2       PaymentScreenSuccessful  3518123091307005509  1564054127     248\n",
       "3              CartScreenAppear  3518123091307005509  1564054127     248\n",
       "4       PaymentScreenSuccessful  6217807653094995999  1564055322     248\n",
       "...                         ...                  ...         ...     ...\n",
       "244121         MainScreenAppear  4599628364049201812  1565212345     247\n",
       "244122         MainScreenAppear  5849806612437486590  1565212439     246\n",
       "244123         MainScreenAppear  5746969938801999050  1565212483     246\n",
       "244124         MainScreenAppear  5746969938801999050  1565212498     246\n",
       "244125       OffersScreenAppear  5746969938801999050  1565212517     246\n",
       "\n",
       "[244126 rows x 4 columns]"
      ]
     },
     "execution_count": 6,
     "metadata": {},
     "output_type": "execute_result"
    }
   ],
   "source": [
    "logs"
   ]
  },
  {
   "cell_type": "markdown",
   "id": "315a541d-db65-4877-9ebe-6e8b591cb3f1",
   "metadata": {},
   "source": [
    "Проверяем пропуски "
   ]
  },
  {
   "cell_type": "code",
   "execution_count": 7,
   "id": "3b7fa997-b690-42bf-9f5f-995a52634076",
   "metadata": {},
   "outputs": [
    {
     "data": {
      "text/plain": [
       "event         0\n",
       "user_id       0\n",
       "event_time    0\n",
       "exp_id        0\n",
       "dtype: int64"
      ]
     },
     "execution_count": 7,
     "metadata": {},
     "output_type": "execute_result"
    }
   ],
   "source": [
    "logs.isna().sum()"
   ]
  },
  {
   "cell_type": "markdown",
   "id": "96dc2b8e",
   "metadata": {},
   "source": [
    "Пропусков нет"
   ]
  },
  {
   "cell_type": "markdown",
   "id": "87b3d7d4",
   "metadata": {},
   "source": [
    "Проверим дубликаты"
   ]
  },
  {
   "cell_type": "code",
   "execution_count": 8,
   "id": "5bd08ef5",
   "metadata": {},
   "outputs": [
    {
     "data": {
      "text/plain": [
       "413"
      ]
     },
     "execution_count": 8,
     "metadata": {},
     "output_type": "execute_result"
    }
   ],
   "source": [
    "logs.duplicated().sum()"
   ]
  },
  {
   "cell_type": "markdown",
   "id": "54a139ae",
   "metadata": {},
   "source": [
    "Дубликаты есть, но из очень мало отностительно размера таблицы. Удаляем их"
   ]
  },
  {
   "cell_type": "code",
   "execution_count": 9,
   "id": "d51fbbef",
   "metadata": {},
   "outputs": [],
   "source": [
    "logs = logs.drop_duplicates()"
   ]
  },
  {
   "cell_type": "markdown",
   "id": "4cbaa5ab",
   "metadata": {},
   "source": [
    "Добавляем меняем тип данных столбца event_time и добовляем столбец date с датой события"
   ]
  },
  {
   "cell_type": "code",
   "execution_count": 10,
   "id": "38c872c3",
   "metadata": {},
   "outputs": [
    {
     "name": "stderr",
     "output_type": "stream",
     "text": [
      "C:\\Users\\dan25\\AppData\\Local\\Temp\\ipykernel_10516\\1022350964.py:1: SettingWithCopyWarning: \n",
      "A value is trying to be set on a copy of a slice from a DataFrame.\n",
      "Try using .loc[row_indexer,col_indexer] = value instead\n",
      "\n",
      "See the caveats in the documentation: https://pandas.pydata.org/pandas-docs/stable/user_guide/indexing.html#returning-a-view-versus-a-copy\n",
      "  logs['event_time'] = pd.to_datetime(logs['event_time'], unit = 's')\n",
      "C:\\Users\\dan25\\AppData\\Local\\Temp\\ipykernel_10516\\1022350964.py:2: SettingWithCopyWarning: \n",
      "A value is trying to be set on a copy of a slice from a DataFrame.\n",
      "Try using .loc[row_indexer,col_indexer] = value instead\n",
      "\n",
      "See the caveats in the documentation: https://pandas.pydata.org/pandas-docs/stable/user_guide/indexing.html#returning-a-view-versus-a-copy\n",
      "  logs['date'] = logs['event_time'].dt.date\n"
     ]
    }
   ],
   "source": [
    "logs['event_time'] = pd.to_datetime(logs['event_time'], unit = 's')\n",
    "logs['date'] = logs['event_time'].dt.date"
   ]
  },
  {
   "cell_type": "markdown",
   "id": "f3a8752c-24ac-48b5-97f6-cac54e4e20b7",
   "metadata": {},
   "source": [
    "### 3. Изучение и проверка данных"
   ]
  },
  {
   "cell_type": "code",
   "execution_count": 11,
   "id": "3053a2c1-65ec-4e3f-81a4-3457542d5177",
   "metadata": {
    "tags": []
   },
   "outputs": [
    {
     "data": {
      "text/html": [
       "<div>\n",
       "<style scoped>\n",
       "    .dataframe tbody tr th:only-of-type {\n",
       "        vertical-align: middle;\n",
       "    }\n",
       "\n",
       "    .dataframe tbody tr th {\n",
       "        vertical-align: top;\n",
       "    }\n",
       "\n",
       "    .dataframe thead th {\n",
       "        text-align: right;\n",
       "    }\n",
       "</style>\n",
       "<table border=\"1\" class=\"dataframe\">\n",
       "  <thead>\n",
       "    <tr style=\"text-align: right;\">\n",
       "      <th></th>\n",
       "      <th>event</th>\n",
       "      <th>user_id</th>\n",
       "      <th>event_time</th>\n",
       "      <th>exp_id</th>\n",
       "      <th>date</th>\n",
       "    </tr>\n",
       "  </thead>\n",
       "  <tbody>\n",
       "    <tr>\n",
       "      <th>0</th>\n",
       "      <td>MainScreenAppear</td>\n",
       "      <td>4575588528974610257</td>\n",
       "      <td>2019-07-25 04:43:36</td>\n",
       "      <td>246</td>\n",
       "      <td>2019-07-25</td>\n",
       "    </tr>\n",
       "    <tr>\n",
       "      <th>1</th>\n",
       "      <td>MainScreenAppear</td>\n",
       "      <td>7416695313311560658</td>\n",
       "      <td>2019-07-25 11:11:42</td>\n",
       "      <td>246</td>\n",
       "      <td>2019-07-25</td>\n",
       "    </tr>\n",
       "    <tr>\n",
       "      <th>2</th>\n",
       "      <td>PaymentScreenSuccessful</td>\n",
       "      <td>3518123091307005509</td>\n",
       "      <td>2019-07-25 11:28:47</td>\n",
       "      <td>248</td>\n",
       "      <td>2019-07-25</td>\n",
       "    </tr>\n",
       "    <tr>\n",
       "      <th>3</th>\n",
       "      <td>CartScreenAppear</td>\n",
       "      <td>3518123091307005509</td>\n",
       "      <td>2019-07-25 11:28:47</td>\n",
       "      <td>248</td>\n",
       "      <td>2019-07-25</td>\n",
       "    </tr>\n",
       "    <tr>\n",
       "      <th>4</th>\n",
       "      <td>PaymentScreenSuccessful</td>\n",
       "      <td>6217807653094995999</td>\n",
       "      <td>2019-07-25 11:48:42</td>\n",
       "      <td>248</td>\n",
       "      <td>2019-07-25</td>\n",
       "    </tr>\n",
       "    <tr>\n",
       "      <th>...</th>\n",
       "      <td>...</td>\n",
       "      <td>...</td>\n",
       "      <td>...</td>\n",
       "      <td>...</td>\n",
       "      <td>...</td>\n",
       "    </tr>\n",
       "    <tr>\n",
       "      <th>244121</th>\n",
       "      <td>MainScreenAppear</td>\n",
       "      <td>4599628364049201812</td>\n",
       "      <td>2019-08-07 21:12:25</td>\n",
       "      <td>247</td>\n",
       "      <td>2019-08-07</td>\n",
       "    </tr>\n",
       "    <tr>\n",
       "      <th>244122</th>\n",
       "      <td>MainScreenAppear</td>\n",
       "      <td>5849806612437486590</td>\n",
       "      <td>2019-08-07 21:13:59</td>\n",
       "      <td>246</td>\n",
       "      <td>2019-08-07</td>\n",
       "    </tr>\n",
       "    <tr>\n",
       "      <th>244123</th>\n",
       "      <td>MainScreenAppear</td>\n",
       "      <td>5746969938801999050</td>\n",
       "      <td>2019-08-07 21:14:43</td>\n",
       "      <td>246</td>\n",
       "      <td>2019-08-07</td>\n",
       "    </tr>\n",
       "    <tr>\n",
       "      <th>244124</th>\n",
       "      <td>MainScreenAppear</td>\n",
       "      <td>5746969938801999050</td>\n",
       "      <td>2019-08-07 21:14:58</td>\n",
       "      <td>246</td>\n",
       "      <td>2019-08-07</td>\n",
       "    </tr>\n",
       "    <tr>\n",
       "      <th>244125</th>\n",
       "      <td>OffersScreenAppear</td>\n",
       "      <td>5746969938801999050</td>\n",
       "      <td>2019-08-07 21:15:17</td>\n",
       "      <td>246</td>\n",
       "      <td>2019-08-07</td>\n",
       "    </tr>\n",
       "  </tbody>\n",
       "</table>\n",
       "<p>243713 rows × 5 columns</p>\n",
       "</div>"
      ],
      "text/plain": [
       "                          event              user_id          event_time  \\\n",
       "0              MainScreenAppear  4575588528974610257 2019-07-25 04:43:36   \n",
       "1              MainScreenAppear  7416695313311560658 2019-07-25 11:11:42   \n",
       "2       PaymentScreenSuccessful  3518123091307005509 2019-07-25 11:28:47   \n",
       "3              CartScreenAppear  3518123091307005509 2019-07-25 11:28:47   \n",
       "4       PaymentScreenSuccessful  6217807653094995999 2019-07-25 11:48:42   \n",
       "...                         ...                  ...                 ...   \n",
       "244121         MainScreenAppear  4599628364049201812 2019-08-07 21:12:25   \n",
       "244122         MainScreenAppear  5849806612437486590 2019-08-07 21:13:59   \n",
       "244123         MainScreenAppear  5746969938801999050 2019-08-07 21:14:43   \n",
       "244124         MainScreenAppear  5746969938801999050 2019-08-07 21:14:58   \n",
       "244125       OffersScreenAppear  5746969938801999050 2019-08-07 21:15:17   \n",
       "\n",
       "        exp_id        date  \n",
       "0          246  2019-07-25  \n",
       "1          246  2019-07-25  \n",
       "2          248  2019-07-25  \n",
       "3          248  2019-07-25  \n",
       "4          248  2019-07-25  \n",
       "...        ...         ...  \n",
       "244121     247  2019-08-07  \n",
       "244122     246  2019-08-07  \n",
       "244123     246  2019-08-07  \n",
       "244124     246  2019-08-07  \n",
       "244125     246  2019-08-07  \n",
       "\n",
       "[243713 rows x 5 columns]"
      ]
     },
     "execution_count": 11,
     "metadata": {},
     "output_type": "execute_result"
    }
   ],
   "source": [
    "logs"
   ]
  },
  {
   "cell_type": "markdown",
   "id": "b70b1ea6-707c-4cfd-9a28-4f6afd52eb70",
   "metadata": {
    "tags": []
   },
   "source": [
    "Посчитаем сколько событий "
   ]
  },
  {
   "cell_type": "code",
   "execution_count": 16,
   "id": "01c4cd88-885c-4a86-a819-1daab43dd382",
   "metadata": {},
   "outputs": [
    {
     "data": {
      "text/plain": [
       "243713"
      ]
     },
     "execution_count": 16,
     "metadata": {},
     "output_type": "execute_result"
    }
   ],
   "source": [
    "events = logs['event'].count()\n",
    "events"
   ]
  },
  {
   "cell_type": "markdown",
   "id": "10b80da6-0dd8-4b8b-9697-23ddd7025e67",
   "metadata": {},
   "source": [
    "Посчитаем сколько пользоваетелей в логе"
   ]
  },
  {
   "cell_type": "code",
   "execution_count": 17,
   "id": "b7214011-0c4e-45c5-b306-df0fe475ec26",
   "metadata": {},
   "outputs": [
    {
     "data": {
      "text/plain": [
       "7551"
      ]
     },
     "execution_count": 17,
     "metadata": {},
     "output_type": "execute_result"
    }
   ],
   "source": [
    "users = logs['user_id'].nunique()\n",
    "users"
   ]
  },
  {
   "cell_type": "markdown",
   "id": "7d7a3063-3eaa-4afb-b835-f24b10938f46",
   "metadata": {},
   "source": [
    "Сколько событий приходится на одного пользователя в среднем"
   ]
  },
  {
   "cell_type": "code",
   "execution_count": 20,
   "id": "f6266c30-708d-4620-83b6-4f011220b7e3",
   "metadata": {},
   "outputs": [
    {
     "data": {
      "text/plain": [
       "32"
      ]
     },
     "execution_count": 20,
     "metadata": {},
     "output_type": "execute_result"
    }
   ],
   "source": [
    "mean_event_per_user = round(events/users)\n",
    "mean_event_per_user"
   ]
  },
  {
   "cell_type": "markdown",
   "id": "3ed7e37a-d719-47c2-b90d-80ed1eaf3444",
   "metadata": {},
   "source": [
    "Данными за какой период у нас есть."
   ]
  },
  {
   "cell_type": "code",
   "execution_count": 21,
   "id": "b5a85b88-a1f6-4289-87af-72dd10c5c342",
   "metadata": {},
   "outputs": [
    {
     "data": {
      "text/plain": [
       "datetime.date(2019, 7, 25)"
      ]
     },
     "execution_count": 21,
     "metadata": {},
     "output_type": "execute_result"
    }
   ],
   "source": [
    "logs['date'].min()"
   ]
  },
  {
   "cell_type": "code",
   "execution_count": 22,
   "id": "3b325694-e439-44c7-b522-66fce17b5d5a",
   "metadata": {},
   "outputs": [
    {
     "data": {
      "text/plain": [
       "datetime.date(2019, 8, 7)"
      ]
     },
     "execution_count": 22,
     "metadata": {},
     "output_type": "execute_result"
    }
   ],
   "source": [
    "logs['date'].max()"
   ]
  },
  {
   "cell_type": "code",
   "execution_count": 32,
   "id": "af4cf224-3372-4daf-9775-5225f5e0aaea",
   "metadata": {},
   "outputs": [
    {
     "data": {
      "text/plain": [
       "<Axes: >"
      ]
     },
     "execution_count": 32,
     "metadata": {},
     "output_type": "execute_result"
    },
    {
     "data": {
      "image/png": "[encoded data removed]",
      "text/plain": [
       "<Figure size 1500x500 with 1 Axes>"
      ]
     },
     "metadata": {},
     "output_type": "display_data"
    }
   ],
   "source": [
    "logs['event_time'].hist(figsize = (15,5), bins = 20)"
   ]
  },
  {
   "cell_type": "markdown",
   "id": "52533538-a7e5-4419-bfd2-26990a93475d",
   "metadata": {},
   "source": [
    "Из гистограммы видно что полные данные только за период 1 по 7 августа"
   ]
  },
  {
   "cell_type": "code",
   "execution_count": null,
   "id": "59e5b28f-f08a-4bdf-a399-bc1b038b41b1",
   "metadata": {},
   "outputs": [],
   "source": []
  }
 ],
 "metadata": {
  "kernelspec": {
   "display_name": "Python 3 (ipykernel)",
   "language": "python",
   "name": "python3"
  },
  "language_info": {
   "codemirror_mode": {
    "name": "ipython",
    "version": 3
   },
   "file_extension": ".py",
   "mimetype": "text/x-python",
   "name": "python",
   "nbconvert_exporter": "python",
   "pygments_lexer": "ipython3",
   "version": "3.10.9"
  }
 },
 "nbformat": 4,
 "nbformat_minor": 5
}
