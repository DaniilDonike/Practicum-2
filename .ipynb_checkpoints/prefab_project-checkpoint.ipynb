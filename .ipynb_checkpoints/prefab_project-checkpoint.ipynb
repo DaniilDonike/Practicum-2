{
 "cells": [
  {
   "cell_type": "markdown",
   "id": "57e37d15",
   "metadata": {},
   "source": [
    "# Сборный проект-2 "
   ]
  },
  {
   "cell_type": "markdown",
   "id": "579b5302",
   "metadata": {},
   "source": [
    "## Описание проекта"
   ]
  },
  {
   "cell_type": "markdown",
   "id": "4493f914",
   "metadata": {},
   "source": [
    "Мы работаем в стартапе, который продает продукты питания."
   ]
  },
  {
   "cell_type": "markdown",
   "id": "206702df",
   "metadata": {},
   "source": [
    "## Описание данных"
   ]
  },
  {
   "cell_type": "markdown",
   "id": "a6acec95",
   "metadata": {},
   "source": [
    "Каждая запись в логе — это действие пользователя, или событие. \n",
    "- EventName — название события;\n",
    "- DeviceIDHash — уникальный идентификатор пользователя;\n",
    "- EventTimestamp — время события;\n",
    "- ExpId — номер эксперимента: 246 и 247 — контрольные группы, а 248 — экспериментальная."
   ]
  },
  {
   "cell_type": "markdown",
   "id": "2176d67e",
   "metadata": {},
   "source": [
    "### Цель проекта"
   ]
  },
  {
   "cell_type": "markdown",
   "id": "b17dfc47",
   "metadata": {},
   "source": [
    "Понять как пользоваетли ведут себя нашего мобильного приложения. "
   ]
  },
  {
   "cell_type": "markdown",
   "id": "1b532aad",
   "metadata": {},
   "source": [
    "### План работы"
   ]
  },
  {
   "cell_type": "markdown",
   "id": "e4bad31e",
   "metadata": {},
   "source": [
    "#### 1. Изучить данные \n",
    "#### 2. Предобработка данных\n",
    "#### 3. Изучить воронку событий\n",
    "#### 4. Изучить результаты эксперемнта\n"
   ]
  },
  {
   "cell_type": "markdown",
   "id": "a4047fea",
   "metadata": {
    "tags": []
   },
   "source": [
    "### 1. Изучаем данные"
   ]
  },
  {
   "cell_type": "markdown",
   "id": "da405881",
   "metadata": {},
   "source": [
    "Импортируем библиотеки"
   ]
  },
  {
   "cell_type": "code",
   "execution_count": 39,
   "id": "74b1d8e7",
   "metadata": {},
   "outputs": [],
   "source": [
    "import pandas as pd\n",
    "import numpy as np\n",
    "import scipy.stats as stats\n",
    "import matplotlib.pyplot as plt\n",
    "import seaborn as sns\n",
    "import math as mth\n",
    "from scipy import stats as st"
   ]
  },
  {
   "cell_type": "markdown",
   "id": "b8f5e465",
   "metadata": {},
   "source": [
    "Читаем таблицу"
   ]
  },
  {
   "cell_type": "code",
   "execution_count": 52,
   "id": "b26dd9c6",
   "metadata": {},
   "outputs": [],
   "source": [
    "logs = pd.read_csv('datasets/logs_exp.csv', sep = '\\t')"
   ]
  },
  {
   "cell_type": "markdown",
   "id": "f9ec4fd0",
   "metadata": {},
   "source": [
    "Выводим первые пять строк таблицы"
   ]
  },
  {
   "cell_type": "code",
   "execution_count": 3,
   "id": "7c5be1de",
   "metadata": {},
   "outputs": [
    {
     "data": {
      "text/html": [
       "<div>\n",
       "<style scoped>\n",
       "    .dataframe tbody tr th:only-of-type {\n",
       "        vertical-align: middle;\n",
       "    }\n",
       "\n",
       "    .dataframe tbody tr th {\n",
       "        vertical-align: top;\n",
       "    }\n",
       "\n",
       "    .dataframe thead th {\n",
       "        text-align: right;\n",
       "    }\n",
       "</style>\n",
       "<table border=\"1\" class=\"dataframe\">\n",
       "  <thead>\n",
       "    <tr style=\"text-align: right;\">\n",
       "      <th></th>\n",
       "      <th>EventName</th>\n",
       "      <th>DeviceIDHash</th>\n",
       "      <th>EventTimestamp</th>\n",
       "      <th>ExpId</th>\n",
       "    </tr>\n",
       "  </thead>\n",
       "  <tbody>\n",
       "    <tr>\n",
       "      <th>0</th>\n",
       "      <td>MainScreenAppear</td>\n",
       "      <td>4575588528974610257</td>\n",
       "      <td>1564029816</td>\n",
       "      <td>246</td>\n",
       "    </tr>\n",
       "    <tr>\n",
       "      <th>1</th>\n",
       "      <td>MainScreenAppear</td>\n",
       "      <td>7416695313311560658</td>\n",
       "      <td>1564053102</td>\n",
       "      <td>246</td>\n",
       "    </tr>\n",
       "    <tr>\n",
       "      <th>2</th>\n",
       "      <td>PaymentScreenSuccessful</td>\n",
       "      <td>3518123091307005509</td>\n",
       "      <td>1564054127</td>\n",
       "      <td>248</td>\n",
       "    </tr>\n",
       "    <tr>\n",
       "      <th>3</th>\n",
       "      <td>CartScreenAppear</td>\n",
       "      <td>3518123091307005509</td>\n",
       "      <td>1564054127</td>\n",
       "      <td>248</td>\n",
       "    </tr>\n",
       "    <tr>\n",
       "      <th>4</th>\n",
       "      <td>PaymentScreenSuccessful</td>\n",
       "      <td>6217807653094995999</td>\n",
       "      <td>1564055322</td>\n",
       "      <td>248</td>\n",
       "    </tr>\n",
       "  </tbody>\n",
       "</table>\n",
       "</div>"
      ],
      "text/plain": [
       "                 EventName         DeviceIDHash  EventTimestamp  ExpId\n",
       "0         MainScreenAppear  4575588528974610257      1564029816    246\n",
       "1         MainScreenAppear  7416695313311560658      1564053102    246\n",
       "2  PaymentScreenSuccessful  3518123091307005509      1564054127    248\n",
       "3         CartScreenAppear  3518123091307005509      1564054127    248\n",
       "4  PaymentScreenSuccessful  6217807653094995999      1564055322    248"
      ]
     },
     "execution_count": 3,
     "metadata": {},
     "output_type": "execute_result"
    }
   ],
   "source": [
    "logs.head(5)"
   ]
  },
  {
   "cell_type": "markdown",
   "id": "03037864",
   "metadata": {},
   "source": [
    "Смотрим информацию о таблице"
   ]
  },
  {
   "cell_type": "code",
   "execution_count": 4,
   "id": "a26ac0ed",
   "metadata": {},
   "outputs": [
    {
     "name": "stdout",
     "output_type": "stream",
     "text": [
      "<class 'pandas.core.frame.DataFrame'>\n",
      "RangeIndex: 244126 entries, 0 to 244125\n",
      "Data columns (total 4 columns):\n",
      " #   Column          Non-Null Count   Dtype \n",
      "---  ------          --------------   ----- \n",
      " 0   EventName       244126 non-null  object\n",
      " 1   DeviceIDHash    244126 non-null  int64 \n",
      " 2   EventTimestamp  244126 non-null  int64 \n",
      " 3   ExpId           244126 non-null  int64 \n",
      "dtypes: int64(3), object(1)\n",
      "memory usage: 7.5+ MB\n"
     ]
    }
   ],
   "source": [
    "logs.info()"
   ]
  },
  {
   "cell_type": "markdown",
   "id": "fb8ea0e7",
   "metadata": {
    "tags": []
   },
   "source": [
    "### 2. Предобработка данных"
   ]
  },
  {
   "cell_type": "markdown",
   "id": "d8f8582d",
   "metadata": {},
   "source": [
    "Меняем названия столбцов"
   ]
  },
  {
   "cell_type": "code",
   "execution_count": 5,
   "id": "2f509e57",
   "metadata": {},
   "outputs": [],
   "source": [
    "logs = logs.rename(columns = {'EventName':'event', 'DeviceIDHash':'user_id', 'EventTimestamp': 'event_time', 'ExpId': 'exp_id'})"
   ]
  },
  {
   "cell_type": "code",
   "execution_count": 6,
   "id": "57bf8639",
   "metadata": {},
   "outputs": [
    {
     "data": {
      "text/html": [
       "<div>\n",
       "<style scoped>\n",
       "    .dataframe tbody tr th:only-of-type {\n",
       "        vertical-align: middle;\n",
       "    }\n",
       "\n",
       "    .dataframe tbody tr th {\n",
       "        vertical-align: top;\n",
       "    }\n",
       "\n",
       "    .dataframe thead th {\n",
       "        text-align: right;\n",
       "    }\n",
       "</style>\n",
       "<table border=\"1\" class=\"dataframe\">\n",
       "  <thead>\n",
       "    <tr style=\"text-align: right;\">\n",
       "      <th></th>\n",
       "      <th>event</th>\n",
       "      <th>user_id</th>\n",
       "      <th>event_time</th>\n",
       "      <th>exp_id</th>\n",
       "    </tr>\n",
       "  </thead>\n",
       "  <tbody>\n",
       "    <tr>\n",
       "      <th>0</th>\n",
       "      <td>MainScreenAppear</td>\n",
       "      <td>4575588528974610257</td>\n",
       "      <td>1564029816</td>\n",
       "      <td>246</td>\n",
       "    </tr>\n",
       "    <tr>\n",
       "      <th>1</th>\n",
       "      <td>MainScreenAppear</td>\n",
       "      <td>7416695313311560658</td>\n",
       "      <td>1564053102</td>\n",
       "      <td>246</td>\n",
       "    </tr>\n",
       "    <tr>\n",
       "      <th>2</th>\n",
       "      <td>PaymentScreenSuccessful</td>\n",
       "      <td>3518123091307005509</td>\n",
       "      <td>1564054127</td>\n",
       "      <td>248</td>\n",
       "    </tr>\n",
       "    <tr>\n",
       "      <th>3</th>\n",
       "      <td>CartScreenAppear</td>\n",
       "      <td>3518123091307005509</td>\n",
       "      <td>1564054127</td>\n",
       "      <td>248</td>\n",
       "    </tr>\n",
       "    <tr>\n",
       "      <th>4</th>\n",
       "      <td>PaymentScreenSuccessful</td>\n",
       "      <td>6217807653094995999</td>\n",
       "      <td>1564055322</td>\n",
       "      <td>248</td>\n",
       "    </tr>\n",
       "    <tr>\n",
       "      <th>...</th>\n",
       "      <td>...</td>\n",
       "      <td>...</td>\n",
       "      <td>...</td>\n",
       "      <td>...</td>\n",
       "    </tr>\n",
       "    <tr>\n",
       "      <th>244121</th>\n",
       "      <td>MainScreenAppear</td>\n",
       "      <td>4599628364049201812</td>\n",
       "      <td>1565212345</td>\n",
       "      <td>247</td>\n",
       "    </tr>\n",
       "    <tr>\n",
       "      <th>244122</th>\n",
       "      <td>MainScreenAppear</td>\n",
       "      <td>5849806612437486590</td>\n",
       "      <td>1565212439</td>\n",
       "      <td>246</td>\n",
       "    </tr>\n",
       "    <tr>\n",
       "      <th>244123</th>\n",
       "      <td>MainScreenAppear</td>\n",
       "      <td>5746969938801999050</td>\n",
       "      <td>1565212483</td>\n",
       "      <td>246</td>\n",
       "    </tr>\n",
       "    <tr>\n",
       "      <th>244124</th>\n",
       "      <td>MainScreenAppear</td>\n",
       "      <td>5746969938801999050</td>\n",
       "      <td>1565212498</td>\n",
       "      <td>246</td>\n",
       "    </tr>\n",
       "    <tr>\n",
       "      <th>244125</th>\n",
       "      <td>OffersScreenAppear</td>\n",
       "      <td>5746969938801999050</td>\n",
       "      <td>1565212517</td>\n",
       "      <td>246</td>\n",
       "    </tr>\n",
       "  </tbody>\n",
       "</table>\n",
       "<p>244126 rows × 4 columns</p>\n",
       "</div>"
      ],
      "text/plain": [
       "                          event              user_id  event_time  exp_id\n",
       "0              MainScreenAppear  4575588528974610257  1564029816     246\n",
       "1              MainScreenAppear  7416695313311560658  1564053102     246\n",
       "2       PaymentScreenSuccessful  3518123091307005509  1564054127     248\n",
       "3              CartScreenAppear  3518123091307005509  1564054127     248\n",
       "4       PaymentScreenSuccessful  6217807653094995999  1564055322     248\n",
       "...                         ...                  ...         ...     ...\n",
       "244121         MainScreenAppear  4599628364049201812  1565212345     247\n",
       "244122         MainScreenAppear  5849806612437486590  1565212439     246\n",
       "244123         MainScreenAppear  5746969938801999050  1565212483     246\n",
       "244124         MainScreenAppear  5746969938801999050  1565212498     246\n",
       "244125       OffersScreenAppear  5746969938801999050  1565212517     246\n",
       "\n",
       "[244126 rows x 4 columns]"
      ]
     },
     "execution_count": 6,
     "metadata": {},
     "output_type": "execute_result"
    }
   ],
   "source": [
    "logs"
   ]
  },
  {
   "cell_type": "markdown",
   "id": "315a541d-db65-4877-9ebe-6e8b591cb3f1",
   "metadata": {},
   "source": [
    "Проверяем пропуски "
   ]
  },
  {
   "cell_type": "code",
   "execution_count": 7,
   "id": "3b7fa997-b690-42bf-9f5f-995a52634076",
   "metadata": {},
   "outputs": [
    {
     "data": {
      "text/plain": [
       "event         0\n",
       "user_id       0\n",
       "event_time    0\n",
       "exp_id        0\n",
       "dtype: int64"
      ]
     },
     "execution_count": 7,
     "metadata": {},
     "output_type": "execute_result"
    }
   ],
   "source": [
    "logs.isna().sum()"
   ]
  },
  {
   "cell_type": "markdown",
   "id": "96dc2b8e",
   "metadata": {},
   "source": [
    "Пропусков нет"
   ]
  },
  {
   "cell_type": "markdown",
   "id": "87b3d7d4",
   "metadata": {},
   "source": [
    "Проверим дубликаты"
   ]
  },
  {
   "cell_type": "code",
   "execution_count": 8,
   "id": "5bd08ef5",
   "metadata": {},
   "outputs": [
    {
     "data": {
      "text/plain": [
       "413"
      ]
     },
     "execution_count": 8,
     "metadata": {},
     "output_type": "execute_result"
    }
   ],
   "source": [
    "logs.duplicated().sum()"
   ]
  },
  {
   "cell_type": "markdown",
   "id": "54a139ae",
   "metadata": {},
   "source": [
    "Дубликаты есть, но из очень мало отностительно размера таблицы. Удаляем их"
   ]
  },
  {
   "cell_type": "code",
   "execution_count": 9,
   "id": "d51fbbef",
   "metadata": {},
   "outputs": [],
   "source": [
    "logs = logs.drop_duplicates()"
   ]
  },
  {
   "cell_type": "markdown",
   "id": "4cbaa5ab",
   "metadata": {},
   "source": [
    "Добавляем меняем тип данных столбца event_time и добовляем столбец date с датой события"
   ]
  },
  {
   "cell_type": "code",
   "execution_count": 10,
   "id": "38c872c3",
   "metadata": {},
   "outputs": [],
   "source": [
    "logs['event_time'] = pd.to_datetime(logs['event_time'], unit = 's')\n",
    "logs['date'] = logs['event_time'].dt.date"
   ]
  },
  {
   "cell_type": "markdown",
   "id": "f3a8752c-24ac-48b5-97f6-cac54e4e20b7",
   "metadata": {},
   "source": [
    "### 3. Изучение и проверка данных"
   ]
  },
  {
   "cell_type": "code",
   "execution_count": 11,
   "id": "3053a2c1-65ec-4e3f-81a4-3457542d5177",
   "metadata": {
    "tags": []
   },
   "outputs": [
    {
     "data": {
      "text/html": [
       "<div>\n",
       "<style scoped>\n",
       "    .dataframe tbody tr th:only-of-type {\n",
       "        vertical-align: middle;\n",
       "    }\n",
       "\n",
       "    .dataframe tbody tr th {\n",
       "        vertical-align: top;\n",
       "    }\n",
       "\n",
       "    .dataframe thead th {\n",
       "        text-align: right;\n",
       "    }\n",
       "</style>\n",
       "<table border=\"1\" class=\"dataframe\">\n",
       "  <thead>\n",
       "    <tr style=\"text-align: right;\">\n",
       "      <th></th>\n",
       "      <th>event</th>\n",
       "      <th>user_id</th>\n",
       "      <th>event_time</th>\n",
       "      <th>exp_id</th>\n",
       "      <th>date</th>\n",
       "    </tr>\n",
       "  </thead>\n",
       "  <tbody>\n",
       "    <tr>\n",
       "      <th>0</th>\n",
       "      <td>MainScreenAppear</td>\n",
       "      <td>4575588528974610257</td>\n",
       "      <td>2019-07-25 04:43:36</td>\n",
       "      <td>246</td>\n",
       "      <td>2019-07-25</td>\n",
       "    </tr>\n",
       "    <tr>\n",
       "      <th>1</th>\n",
       "      <td>MainScreenAppear</td>\n",
       "      <td>7416695313311560658</td>\n",
       "      <td>2019-07-25 11:11:42</td>\n",
       "      <td>246</td>\n",
       "      <td>2019-07-25</td>\n",
       "    </tr>\n",
       "    <tr>\n",
       "      <th>2</th>\n",
       "      <td>PaymentScreenSuccessful</td>\n",
       "      <td>3518123091307005509</td>\n",
       "      <td>2019-07-25 11:28:47</td>\n",
       "      <td>248</td>\n",
       "      <td>2019-07-25</td>\n",
       "    </tr>\n",
       "    <tr>\n",
       "      <th>3</th>\n",
       "      <td>CartScreenAppear</td>\n",
       "      <td>3518123091307005509</td>\n",
       "      <td>2019-07-25 11:28:47</td>\n",
       "      <td>248</td>\n",
       "      <td>2019-07-25</td>\n",
       "    </tr>\n",
       "    <tr>\n",
       "      <th>4</th>\n",
       "      <td>PaymentScreenSuccessful</td>\n",
       "      <td>6217807653094995999</td>\n",
       "      <td>2019-07-25 11:48:42</td>\n",
       "      <td>248</td>\n",
       "      <td>2019-07-25</td>\n",
       "    </tr>\n",
       "    <tr>\n",
       "      <th>...</th>\n",
       "      <td>...</td>\n",
       "      <td>...</td>\n",
       "      <td>...</td>\n",
       "      <td>...</td>\n",
       "      <td>...</td>\n",
       "    </tr>\n",
       "    <tr>\n",
       "      <th>244121</th>\n",
       "      <td>MainScreenAppear</td>\n",
       "      <td>4599628364049201812</td>\n",
       "      <td>2019-08-07 21:12:25</td>\n",
       "      <td>247</td>\n",
       "      <td>2019-08-07</td>\n",
       "    </tr>\n",
       "    <tr>\n",
       "      <th>244122</th>\n",
       "      <td>MainScreenAppear</td>\n",
       "      <td>5849806612437486590</td>\n",
       "      <td>2019-08-07 21:13:59</td>\n",
       "      <td>246</td>\n",
       "      <td>2019-08-07</td>\n",
       "    </tr>\n",
       "    <tr>\n",
       "      <th>244123</th>\n",
       "      <td>MainScreenAppear</td>\n",
       "      <td>5746969938801999050</td>\n",
       "      <td>2019-08-07 21:14:43</td>\n",
       "      <td>246</td>\n",
       "      <td>2019-08-07</td>\n",
       "    </tr>\n",
       "    <tr>\n",
       "      <th>244124</th>\n",
       "      <td>MainScreenAppear</td>\n",
       "      <td>5746969938801999050</td>\n",
       "      <td>2019-08-07 21:14:58</td>\n",
       "      <td>246</td>\n",
       "      <td>2019-08-07</td>\n",
       "    </tr>\n",
       "    <tr>\n",
       "      <th>244125</th>\n",
       "      <td>OffersScreenAppear</td>\n",
       "      <td>5746969938801999050</td>\n",
       "      <td>2019-08-07 21:15:17</td>\n",
       "      <td>246</td>\n",
       "      <td>2019-08-07</td>\n",
       "    </tr>\n",
       "  </tbody>\n",
       "</table>\n",
       "<p>243713 rows × 5 columns</p>\n",
       "</div>"
      ],
      "text/plain": [
       "                          event              user_id          event_time  \\\n",
       "0              MainScreenAppear  4575588528974610257 2019-07-25 04:43:36   \n",
       "1              MainScreenAppear  7416695313311560658 2019-07-25 11:11:42   \n",
       "2       PaymentScreenSuccessful  3518123091307005509 2019-07-25 11:28:47   \n",
       "3              CartScreenAppear  3518123091307005509 2019-07-25 11:28:47   \n",
       "4       PaymentScreenSuccessful  6217807653094995999 2019-07-25 11:48:42   \n",
       "...                         ...                  ...                 ...   \n",
       "244121         MainScreenAppear  4599628364049201812 2019-08-07 21:12:25   \n",
       "244122         MainScreenAppear  5849806612437486590 2019-08-07 21:13:59   \n",
       "244123         MainScreenAppear  5746969938801999050 2019-08-07 21:14:43   \n",
       "244124         MainScreenAppear  5746969938801999050 2019-08-07 21:14:58   \n",
       "244125       OffersScreenAppear  5746969938801999050 2019-08-07 21:15:17   \n",
       "\n",
       "        exp_id        date  \n",
       "0          246  2019-07-25  \n",
       "1          246  2019-07-25  \n",
       "2          248  2019-07-25  \n",
       "3          248  2019-07-25  \n",
       "4          248  2019-07-25  \n",
       "...        ...         ...  \n",
       "244121     247  2019-08-07  \n",
       "244122     246  2019-08-07  \n",
       "244123     246  2019-08-07  \n",
       "244124     246  2019-08-07  \n",
       "244125     246  2019-08-07  \n",
       "\n",
       "[243713 rows x 5 columns]"
      ]
     },
     "execution_count": 11,
     "metadata": {},
     "output_type": "execute_result"
    }
   ],
   "source": [
    "logs"
   ]
  },
  {
   "cell_type": "markdown",
   "id": "b70b1ea6-707c-4cfd-9a28-4f6afd52eb70",
   "metadata": {
    "tags": []
   },
   "source": [
    "Посчитаем сколько событий "
   ]
  },
  {
   "cell_type": "code",
   "execution_count": 12,
   "id": "01c4cd88-885c-4a86-a819-1daab43dd382",
   "metadata": {},
   "outputs": [
    {
     "data": {
      "text/plain": [
       "243713"
      ]
     },
     "execution_count": 12,
     "metadata": {},
     "output_type": "execute_result"
    }
   ],
   "source": [
    "events = logs['event'].count()\n",
    "events"
   ]
  },
  {
   "cell_type": "markdown",
   "id": "10b80da6-0dd8-4b8b-9697-23ddd7025e67",
   "metadata": {},
   "source": [
    "Посчитаем сколько пользоваетелей в логе"
   ]
  },
  {
   "cell_type": "code",
   "execution_count": 13,
   "id": "b7214011-0c4e-45c5-b306-df0fe475ec26",
   "metadata": {},
   "outputs": [
    {
     "data": {
      "text/plain": [
       "7551"
      ]
     },
     "execution_count": 13,
     "metadata": {},
     "output_type": "execute_result"
    }
   ],
   "source": [
    "users = logs['user_id'].nunique()\n",
    "users"
   ]
  },
  {
   "cell_type": "markdown",
   "id": "7d7a3063-3eaa-4afb-b835-f24b10938f46",
   "metadata": {},
   "source": [
    "Сколько событий приходится на одного пользователя в среднем"
   ]
  },
  {
   "cell_type": "code",
   "execution_count": 14,
   "id": "f6266c30-708d-4620-83b6-4f011220b7e3",
   "metadata": {},
   "outputs": [
    {
     "data": {
      "text/plain": [
       "32"
      ]
     },
     "execution_count": 14,
     "metadata": {},
     "output_type": "execute_result"
    }
   ],
   "source": [
    "mean_event_per_user = round(events/users)\n",
    "mean_event_per_user"
   ]
  },
  {
   "cell_type": "markdown",
   "id": "3ed7e37a-d719-47c2-b90d-80ed1eaf3444",
   "metadata": {},
   "source": [
    "Данными за какой период у нас есть."
   ]
  },
  {
   "cell_type": "code",
   "execution_count": 15,
   "id": "b5a85b88-a1f6-4289-87af-72dd10c5c342",
   "metadata": {},
   "outputs": [
    {
     "data": {
      "text/plain": [
       "datetime.date(2019, 7, 25)"
      ]
     },
     "execution_count": 15,
     "metadata": {},
     "output_type": "execute_result"
    }
   ],
   "source": [
    "logs['date'].min()"
   ]
  },
  {
   "cell_type": "code",
   "execution_count": 16,
   "id": "3b325694-e439-44c7-b522-66fce17b5d5a",
   "metadata": {},
   "outputs": [
    {
     "data": {
      "text/plain": [
       "datetime.date(2019, 8, 7)"
      ]
     },
     "execution_count": 16,
     "metadata": {},
     "output_type": "execute_result"
    }
   ],
   "source": [
    "logs['date'].max()"
   ]
  },
  {
   "cell_type": "code",
   "execution_count": 17,
   "id": "af4cf224-3372-4daf-9775-5225f5e0aaea",
   "metadata": {},
   "outputs": [
    {
     "data": {
      "text/plain": [
       "<Axes: >"
      ]
     },
     "execution_count": 17,
     "metadata": {},
     "output_type": "execute_result"
    },
    {
     "data": {
      "image/png": "[encoded data removed]",
      "text/plain": [
       "<Figure size 1500x500 with 1 Axes>"
      ]
     },
     "metadata": {},
     "output_type": "display_data"
    }
   ],
   "source": [
    "logs['event_time'].hist(figsize = (15,5), bins = 14)"
   ]
  },
  {
   "cell_type": "markdown",
   "id": "52533538-a7e5-4419-bfd2-26990a93475d",
   "metadata": {},
   "source": [
    "Из гистограммы видно что мы имеем полные данные только за период с 1 по 7 августа. В дни ранее этого периода данных слишком мало. Отбрасываем пользователей которые не входят в этот период.\n"
   ]
  },
  {
   "cell_type": "code",
   "execution_count": 18,
   "id": "59e5b28f-f08a-4bdf-a399-bc1b038b41b1",
   "metadata": {},
   "outputs": [
    {
     "data": {
      "text/html": [
       "<div>\n",
       "<style scoped>\n",
       "    .dataframe tbody tr th:only-of-type {\n",
       "        vertical-align: middle;\n",
       "    }\n",
       "\n",
       "    .dataframe tbody tr th {\n",
       "        vertical-align: top;\n",
       "    }\n",
       "\n",
       "    .dataframe thead th {\n",
       "        text-align: right;\n",
       "    }\n",
       "</style>\n",
       "<table border=\"1\" class=\"dataframe\">\n",
       "  <thead>\n",
       "    <tr style=\"text-align: right;\">\n",
       "      <th></th>\n",
       "      <th>event</th>\n",
       "      <th>user_id</th>\n",
       "      <th>event_time</th>\n",
       "      <th>exp_id</th>\n",
       "      <th>date</th>\n",
       "    </tr>\n",
       "  </thead>\n",
       "  <tbody>\n",
       "    <tr>\n",
       "      <th>0</th>\n",
       "      <td>MainScreenAppear</td>\n",
       "      <td>4575588528974610257</td>\n",
       "      <td>2019-07-25 04:43:36</td>\n",
       "      <td>246</td>\n",
       "      <td>2019-07-25</td>\n",
       "    </tr>\n",
       "    <tr>\n",
       "      <th>1</th>\n",
       "      <td>MainScreenAppear</td>\n",
       "      <td>7416695313311560658</td>\n",
       "      <td>2019-07-25 11:11:42</td>\n",
       "      <td>246</td>\n",
       "      <td>2019-07-25</td>\n",
       "    </tr>\n",
       "    <tr>\n",
       "      <th>2</th>\n",
       "      <td>PaymentScreenSuccessful</td>\n",
       "      <td>3518123091307005509</td>\n",
       "      <td>2019-07-25 11:28:47</td>\n",
       "      <td>248</td>\n",
       "      <td>2019-07-25</td>\n",
       "    </tr>\n",
       "    <tr>\n",
       "      <th>3</th>\n",
       "      <td>CartScreenAppear</td>\n",
       "      <td>3518123091307005509</td>\n",
       "      <td>2019-07-25 11:28:47</td>\n",
       "      <td>248</td>\n",
       "      <td>2019-07-25</td>\n",
       "    </tr>\n",
       "    <tr>\n",
       "      <th>4</th>\n",
       "      <td>PaymentScreenSuccessful</td>\n",
       "      <td>6217807653094995999</td>\n",
       "      <td>2019-07-25 11:48:42</td>\n",
       "      <td>248</td>\n",
       "      <td>2019-07-25</td>\n",
       "    </tr>\n",
       "    <tr>\n",
       "      <th>...</th>\n",
       "      <td>...</td>\n",
       "      <td>...</td>\n",
       "      <td>...</td>\n",
       "      <td>...</td>\n",
       "      <td>...</td>\n",
       "    </tr>\n",
       "    <tr>\n",
       "      <th>244121</th>\n",
       "      <td>MainScreenAppear</td>\n",
       "      <td>4599628364049201812</td>\n",
       "      <td>2019-08-07 21:12:25</td>\n",
       "      <td>247</td>\n",
       "      <td>2019-08-07</td>\n",
       "    </tr>\n",
       "    <tr>\n",
       "      <th>244122</th>\n",
       "      <td>MainScreenAppear</td>\n",
       "      <td>5849806612437486590</td>\n",
       "      <td>2019-08-07 21:13:59</td>\n",
       "      <td>246</td>\n",
       "      <td>2019-08-07</td>\n",
       "    </tr>\n",
       "    <tr>\n",
       "      <th>244123</th>\n",
       "      <td>MainScreenAppear</td>\n",
       "      <td>5746969938801999050</td>\n",
       "      <td>2019-08-07 21:14:43</td>\n",
       "      <td>246</td>\n",
       "      <td>2019-08-07</td>\n",
       "    </tr>\n",
       "    <tr>\n",
       "      <th>244124</th>\n",
       "      <td>MainScreenAppear</td>\n",
       "      <td>5746969938801999050</td>\n",
       "      <td>2019-08-07 21:14:58</td>\n",
       "      <td>246</td>\n",
       "      <td>2019-08-07</td>\n",
       "    </tr>\n",
       "    <tr>\n",
       "      <th>244125</th>\n",
       "      <td>OffersScreenAppear</td>\n",
       "      <td>5746969938801999050</td>\n",
       "      <td>2019-08-07 21:15:17</td>\n",
       "      <td>246</td>\n",
       "      <td>2019-08-07</td>\n",
       "    </tr>\n",
       "  </tbody>\n",
       "</table>\n",
       "<p>243713 rows × 5 columns</p>\n",
       "</div>"
      ],
      "text/plain": [
       "                          event              user_id          event_time  \\\n",
       "0              MainScreenAppear  4575588528974610257 2019-07-25 04:43:36   \n",
       "1              MainScreenAppear  7416695313311560658 2019-07-25 11:11:42   \n",
       "2       PaymentScreenSuccessful  3518123091307005509 2019-07-25 11:28:47   \n",
       "3              CartScreenAppear  3518123091307005509 2019-07-25 11:28:47   \n",
       "4       PaymentScreenSuccessful  6217807653094995999 2019-07-25 11:48:42   \n",
       "...                         ...                  ...                 ...   \n",
       "244121         MainScreenAppear  4599628364049201812 2019-08-07 21:12:25   \n",
       "244122         MainScreenAppear  5849806612437486590 2019-08-07 21:13:59   \n",
       "244123         MainScreenAppear  5746969938801999050 2019-08-07 21:14:43   \n",
       "244124         MainScreenAppear  5746969938801999050 2019-08-07 21:14:58   \n",
       "244125       OffersScreenAppear  5746969938801999050 2019-08-07 21:15:17   \n",
       "\n",
       "        exp_id        date  \n",
       "0          246  2019-07-25  \n",
       "1          246  2019-07-25  \n",
       "2          248  2019-07-25  \n",
       "3          248  2019-07-25  \n",
       "4          248  2019-07-25  \n",
       "...        ...         ...  \n",
       "244121     247  2019-08-07  \n",
       "244122     246  2019-08-07  \n",
       "244123     246  2019-08-07  \n",
       "244124     246  2019-08-07  \n",
       "244125     246  2019-08-07  \n",
       "\n",
       "[243713 rows x 5 columns]"
      ]
     },
     "execution_count": 18,
     "metadata": {},
     "output_type": "execute_result"
    }
   ],
   "source": [
    "logs"
   ]
  },
  {
   "cell_type": "code",
   "execution_count": 19,
   "id": "bc3ee857-a1ae-4d01-99ba-8e73850e7c40",
   "metadata": {},
   "outputs": [
    {
     "name": "stderr",
     "output_type": "stream",
     "text": [
      "C:\\Users\\dan25\\AppData\\Local\\Temp\\ipykernel_13972\\3943105359.py:2: FutureWarning:\n",
      "\n",
      "Comparison of Timestamp with datetime.date is deprecated in order to match the standard library behavior. In a future version these will be considered non-comparable. Use 'ts == pd.Timestamp(date)' or 'ts.date() == date' instead.\n",
      "\n"
     ]
    }
   ],
   "source": [
    "date_filter = pd.to_datetime('2019-08-01')\n",
    "logs = logs[logs['date'] >= date_filter]"
   ]
  },
  {
   "cell_type": "markdown",
   "id": "81c13920-0021-49f8-86cf-aa00311b5fc4",
   "metadata": {},
   "source": [
    "Проверим сколько пользователей и событий мы потеряли после фильтрации."
   ]
  },
  {
   "cell_type": "code",
   "execution_count": 20,
   "id": "c9670c2c-e7ec-4776-9ee5-9a3e6b0b42cf",
   "metadata": {},
   "outputs": [
    {
     "data": {
      "text/plain": [
       "240887"
      ]
     },
     "execution_count": 20,
     "metadata": {},
     "output_type": "execute_result"
    }
   ],
   "source": [
    "logs['event'].count()"
   ]
  },
  {
   "cell_type": "code",
   "execution_count": 21,
   "id": "787b28b6-0bb3-45c7-a1d2-371afb0447e2",
   "metadata": {},
   "outputs": [
    {
     "data": {
      "text/plain": [
       "7534"
      ]
     },
     "execution_count": 21,
     "metadata": {},
     "output_type": "execute_result"
    }
   ],
   "source": [
    "logs['user_id'].nunique()"
   ]
  },
  {
   "cell_type": "markdown",
   "id": "f68908d7-a4d7-4dff-91cc-722bd51bcab9",
   "metadata": {},
   "source": [
    "Потери совсем не велики."
   ]
  },
  {
   "cell_type": "markdown",
   "id": "9b443925-e710-4e00-a11e-d54f866411e9",
   "metadata": {},
   "source": [
    "Смотрим сохранились ли у нас пользователи во всех трех эксперементальных группах"
   ]
  },
  {
   "cell_type": "code",
   "execution_count": 22,
   "id": "887c8791-b787-477b-b413-525c12ea6a9c",
   "metadata": {},
   "outputs": [
    {
     "data": {
      "text/plain": [
       "248    84563\n",
       "246    79302\n",
       "247    77022\n",
       "Name: exp_id, dtype: int64"
      ]
     },
     "execution_count": 22,
     "metadata": {},
     "output_type": "execute_result"
    }
   ],
   "source": [
    "logs['exp_id'].value_counts()"
   ]
  },
  {
   "cell_type": "markdown",
   "id": "a6c028f0-f8b7-41fc-8ec1-7cec6034121b",
   "metadata": {},
   "source": [
    "У нас есть дастаточное количество пользователей во всех группах"
   ]
  },
  {
   "cell_type": "markdown",
   "id": "6dbd99cc-4a65-4200-88b8-8d5737197dde",
   "metadata": {},
   "source": [
    "### 4. Изучаем воронку событий"
   ]
  },
  {
   "cell_type": "code",
   "execution_count": 23,
   "id": "afef2272-e783-4d5b-9ca9-174f5c01b009",
   "metadata": {},
   "outputs": [],
   "source": [
    "#logs['event'].value_counts()"
   ]
  },
  {
   "cell_type": "code",
   "execution_count": 24,
   "id": "27e905a6",
   "metadata": {},
   "outputs": [
    {
     "data": {
      "text/html": [
       "<div>\n",
       "<style scoped>\n",
       "    .dataframe tbody tr th:only-of-type {\n",
       "        vertical-align: middle;\n",
       "    }\n",
       "\n",
       "    .dataframe tbody tr th {\n",
       "        vertical-align: top;\n",
       "    }\n",
       "\n",
       "    .dataframe thead th {\n",
       "        text-align: right;\n",
       "    }\n",
       "</style>\n",
       "<table border=\"1\" class=\"dataframe\">\n",
       "  <thead>\n",
       "    <tr style=\"text-align: right;\">\n",
       "      <th></th>\n",
       "      <th>event</th>\n",
       "      <th>count</th>\n",
       "      <th>nunique</th>\n",
       "      <th>%</th>\n",
       "    </tr>\n",
       "  </thead>\n",
       "  <tbody>\n",
       "    <tr>\n",
       "      <th>1</th>\n",
       "      <td>MainScreenAppear</td>\n",
       "      <td>117328</td>\n",
       "      <td>7419</td>\n",
       "      <td>100.00</td>\n",
       "    </tr>\n",
       "    <tr>\n",
       "      <th>2</th>\n",
       "      <td>OffersScreenAppear</td>\n",
       "      <td>46333</td>\n",
       "      <td>4593</td>\n",
       "      <td>61.91</td>\n",
       "    </tr>\n",
       "    <tr>\n",
       "      <th>0</th>\n",
       "      <td>CartScreenAppear</td>\n",
       "      <td>42303</td>\n",
       "      <td>3734</td>\n",
       "      <td>50.33</td>\n",
       "    </tr>\n",
       "    <tr>\n",
       "      <th>3</th>\n",
       "      <td>PaymentScreenSuccessful</td>\n",
       "      <td>33918</td>\n",
       "      <td>3539</td>\n",
       "      <td>47.70</td>\n",
       "    </tr>\n",
       "    <tr>\n",
       "      <th>4</th>\n",
       "      <td>Tutorial</td>\n",
       "      <td>1005</td>\n",
       "      <td>840</td>\n",
       "      <td>11.32</td>\n",
       "    </tr>\n",
       "  </tbody>\n",
       "</table>\n",
       "</div>"
      ],
      "text/plain": [
       "                     event   count  nunique       %\n",
       "1         MainScreenAppear  117328     7419  100.00\n",
       "2       OffersScreenAppear   46333     4593   61.91\n",
       "0         CartScreenAppear   42303     3734   50.33\n",
       "3  PaymentScreenSuccessful   33918     3539   47.70\n",
       "4                 Tutorial    1005      840   11.32"
      ]
     },
     "execution_count": 24,
     "metadata": {},
     "output_type": "execute_result"
    }
   ],
   "source": [
    "gog = logs.pivot_table(index = 'event', values = 'user_id', aggfunc = {'count' ,'nunique'}).reset_index().sort_values(by = 'nunique', ascending = False)\n",
    "gog['%'] = round((gog['nunique'] / 7419) * 100, 2)\n",
    "gog"
   ]
  },
  {
   "cell_type": "markdown",
   "id": "39f19b4a",
   "metadata": {},
   "source": [
    "События идут в следуещем порядке\n",
    "- MaitScreenAppear - главный экран приложения\n",
    "- Tutorial - обучение использования приложения(обычно у пользоваетеля есть возможность пропустить этот шаг)\n",
    "- OffersScreenAppear - экран с товароми(предложение о покупке)\n",
    "- CartScreenAppear - корзина\n",
    "- PaymentScreenSuccesful - экран успешной оплаты"
   ]
  },
  {
   "cell_type": "markdown",
   "id": "b798d0c2",
   "metadata": {},
   "source": [
    "Среди всех событий стоит не учитывать Tutorial. Из таблицы видно что большенство пользователей поропустило этот шаг. "
   ]
  },
  {
   "cell_type": "code",
   "execution_count": 25,
   "id": "554b5d2c",
   "metadata": {},
   "outputs": [],
   "source": [
    "logs = logs[logs['event'] != 'Tutorial']"
   ]
  },
  {
   "cell_type": "code",
   "execution_count": 26,
   "id": "00bd1002",
   "metadata": {},
   "outputs": [],
   "source": [
    "users = logs.pivot_table(index='user_id', \n",
    "                         columns='event', \n",
    "                         values='event_time',\n",
    "                         aggfunc='min')\n",
    "step_1 = ~users['MainScreenAppear'].isna()\n",
    "step_2 = step_1 & (users['OffersScreenAppear'] > users['MainScreenAppear'])\n",
    "step_3 = step_2 & (users['CartScreenAppear'] > users['OffersScreenAppear'])\n",
    "step_4 = step_3 & (users['PaymentScreenSuccessful'] > users['CartScreenAppear'])\n",
    "\n",
    "n_main_screen = users[step_1].shape[0]\n",
    "n_offer = users[step_2].shape[0]\n",
    "n_cart = users[step_3].shape[0]\n",
    "n_payment_successful = users[step_4].shape[0]"
   ]
  },
  {
   "cell_type": "code",
   "execution_count": 27,
   "id": "1721d467",
   "metadata": {},
   "outputs": [
    {
     "data": {
      "text/plain": [
       "(0.0, 9000.0)"
      ]
     },
     "execution_count": 27,
     "metadata": {},
     "output_type": "execute_result"
    },
    {
     "data": {
      "image/png": "[encoded data removed]",
      "text/plain": [
       "<Figure size 1200x600 with 1 Axes>"
      ]
     },
     "metadata": {},
     "output_type": "display_data"
    }
   ],
   "source": [
    "y = [5,4,3,2,1]\n",
    "x = [n_main_screen,n_offer,n_cart,n_payment_successful]\n",
    "x_max = 9000\n",
    "x_min = 0\n",
    "fig, ax = plt.subplots(1, figsize=(12,6))\n",
    "for idx, val in enumerate(x):\n",
    "    left = (x_max - val)/2\n",
    "    plt.barh(y[idx], x[idx], left = left, color='black', height=0.97, edgecolor='white')\n",
    "    plt.text(50, y[idx], x[idx], ha='center',\n",
    "             fontsize=16, color='#2A2A2A')\n",
    "plt.axis('off')\n",
    "plt.xlim(x_min, x_max)"
   ]
  },
  {
   "cell_type": "code",
   "execution_count": 51,
   "id": "ea8edf7f",
   "metadata": {},
   "outputs": [
    {
     "name": "stdout",
     "output_type": "stream",
     "text": [
      "Главный экран: 100.0\n",
      "Экран предложения: 56.62488205957676\n",
      "Переход к корзине: 42.06141394905975\n",
      "Оплата: 25.693265421618563\n"
     ]
    }
   ],
   "source": [
    "print('Главный экран:', (n_main_screen / n_main_screen) * 100)\n",
    "print('Экран предложения:', (n_offer / n_main_screen) * 100)\n",
    "print('Переход к корзине:', (n_cart / n_offer) * 100)\n",
    "print('Оплата:', (n_payment_successful / n_cart) * 100)"
   ]
  },
  {
   "cell_type": "markdown",
   "id": "f055c011",
   "metadata": {},
   "source": [
    "Только 454 пользователя дошли от начала до конца, \"посетив\" все этапы.\n",
    "Все остальные пользователи не начинают с начала"
   ]
  },
  {
   "cell_type": "markdown",
   "id": "59b385c1",
   "metadata": {},
   "source": [
    "### 5. Результаты эксперимента "
   ]
  },
  {
   "cell_type": "code",
   "execution_count": 28,
   "id": "ba44e4af",
   "metadata": {},
   "outputs": [
    {
     "data": {
      "text/html": [
       "<div>\n",
       "<style scoped>\n",
       "    .dataframe tbody tr th:only-of-type {\n",
       "        vertical-align: middle;\n",
       "    }\n",
       "\n",
       "    .dataframe tbody tr th {\n",
       "        vertical-align: top;\n",
       "    }\n",
       "\n",
       "    .dataframe thead th {\n",
       "        text-align: right;\n",
       "    }\n",
       "</style>\n",
       "<table border=\"1\" class=\"dataframe\">\n",
       "  <thead>\n",
       "    <tr style=\"text-align: right;\">\n",
       "      <th></th>\n",
       "      <th>user_id</th>\n",
       "    </tr>\n",
       "    <tr>\n",
       "      <th>exp_id</th>\n",
       "      <th></th>\n",
       "    </tr>\n",
       "  </thead>\n",
       "  <tbody>\n",
       "    <tr>\n",
       "      <th>246</th>\n",
       "      <td>2483</td>\n",
       "    </tr>\n",
       "    <tr>\n",
       "      <th>247</th>\n",
       "      <td>2512</td>\n",
       "    </tr>\n",
       "    <tr>\n",
       "      <th>248</th>\n",
       "      <td>2535</td>\n",
       "    </tr>\n",
       "  </tbody>\n",
       "</table>\n",
       "</div>"
      ],
      "text/plain": [
       "        user_id\n",
       "exp_id         \n",
       "246        2483\n",
       "247        2512\n",
       "248        2535"
      ]
     },
     "execution_count": 28,
     "metadata": {},
     "output_type": "execute_result"
    }
   ],
   "source": [
    "logs.groupby('exp_id')['user_id'].nunique().to_frame()"
   ]
  },
  {
   "cell_type": "code",
   "execution_count": 29,
   "id": "e338cc18",
   "metadata": {},
   "outputs": [
    {
     "data": {
      "text/html": [
       "<div>\n",
       "<style scoped>\n",
       "    .dataframe tbody tr th:only-of-type {\n",
       "        vertical-align: middle;\n",
       "    }\n",
       "\n",
       "    .dataframe tbody tr th {\n",
       "        vertical-align: top;\n",
       "    }\n",
       "\n",
       "    .dataframe thead th {\n",
       "        text-align: right;\n",
       "    }\n",
       "</style>\n",
       "<table border=\"1\" class=\"dataframe\">\n",
       "  <thead>\n",
       "    <tr style=\"text-align: right;\">\n",
       "      <th>event</th>\n",
       "      <th>exp_id</th>\n",
       "      <th>CartScreenAppear</th>\n",
       "      <th>MainScreenAppear</th>\n",
       "      <th>OffersScreenAppear</th>\n",
       "      <th>PaymentScreenSuccessful</th>\n",
       "    </tr>\n",
       "  </thead>\n",
       "  <tbody>\n",
       "    <tr>\n",
       "      <th>0</th>\n",
       "      <td>246</td>\n",
       "      <td>1266</td>\n",
       "      <td>2450</td>\n",
       "      <td>1542</td>\n",
       "      <td>1200</td>\n",
       "    </tr>\n",
       "    <tr>\n",
       "      <th>1</th>\n",
       "      <td>247</td>\n",
       "      <td>1238</td>\n",
       "      <td>2476</td>\n",
       "      <td>1520</td>\n",
       "      <td>1158</td>\n",
       "    </tr>\n",
       "    <tr>\n",
       "      <th>2</th>\n",
       "      <td>248</td>\n",
       "      <td>1230</td>\n",
       "      <td>2493</td>\n",
       "      <td>1531</td>\n",
       "      <td>1181</td>\n",
       "    </tr>\n",
       "  </tbody>\n",
       "</table>\n",
       "</div>"
      ],
      "text/plain": [
       "event  exp_id  CartScreenAppear  MainScreenAppear  OffersScreenAppear  \\\n",
       "0         246              1266              2450                1542   \n",
       "1         247              1238              2476                1520   \n",
       "2         248              1230              2493                1531   \n",
       "\n",
       "event  PaymentScreenSuccessful  \n",
       "0                         1200  \n",
       "1                         1158  \n",
       "2                         1181  "
      ]
     },
     "execution_count": 29,
     "metadata": {},
     "output_type": "execute_result"
    }
   ],
   "source": [
    "users_by_events = logs.pivot_table(index = 'exp_id',\n",
    "                                   columns = 'event',\n",
    "                                   values = 'user_id',\n",
    "                                   aggfunc = 'nunique').reset_index()\n",
    "users_by_events"
   ]
  },
  {
   "cell_type": "code",
   "execution_count": 30,
   "id": "8bd5c1b3",
   "metadata": {},
   "outputs": [
    {
     "data": {
      "text/html": [
       "<div>\n",
       "<style scoped>\n",
       "    .dataframe tbody tr th:only-of-type {\n",
       "        vertical-align: middle;\n",
       "    }\n",
       "\n",
       "    .dataframe tbody tr th {\n",
       "        vertical-align: top;\n",
       "    }\n",
       "\n",
       "    .dataframe thead th {\n",
       "        text-align: right;\n",
       "    }\n",
       "</style>\n",
       "<table border=\"1\" class=\"dataframe\">\n",
       "  <thead>\n",
       "    <tr style=\"text-align: right;\">\n",
       "      <th>event</th>\n",
       "      <th>CartScreenAppear</th>\n",
       "      <th>MainScreenAppear</th>\n",
       "      <th>OffersScreenAppear</th>\n",
       "      <th>PaymentScreenSuccessful</th>\n",
       "      <th>users_count</th>\n",
       "    </tr>\n",
       "    <tr>\n",
       "      <th>exp_id</th>\n",
       "      <th></th>\n",
       "      <th></th>\n",
       "      <th></th>\n",
       "      <th></th>\n",
       "      <th></th>\n",
       "    </tr>\n",
       "  </thead>\n",
       "  <tbody>\n",
       "    <tr>\n",
       "      <th>246</th>\n",
       "      <td>1266</td>\n",
       "      <td>2450</td>\n",
       "      <td>1542</td>\n",
       "      <td>1200</td>\n",
       "      <td>2483</td>\n",
       "    </tr>\n",
       "    <tr>\n",
       "      <th>247</th>\n",
       "      <td>1238</td>\n",
       "      <td>2476</td>\n",
       "      <td>1520</td>\n",
       "      <td>1158</td>\n",
       "      <td>2512</td>\n",
       "    </tr>\n",
       "    <tr>\n",
       "      <th>248</th>\n",
       "      <td>1230</td>\n",
       "      <td>2493</td>\n",
       "      <td>1531</td>\n",
       "      <td>1181</td>\n",
       "      <td>2535</td>\n",
       "    </tr>\n",
       "  </tbody>\n",
       "</table>\n",
       "</div>"
      ],
      "text/plain": [
       "event   CartScreenAppear  MainScreenAppear  OffersScreenAppear  \\\n",
       "exp_id                                                           \n",
       "246                 1266              2450                1542   \n",
       "247                 1238              2476                1520   \n",
       "248                 1230              2493                1531   \n",
       "\n",
       "event   PaymentScreenSuccessful  users_count  \n",
       "exp_id                                        \n",
       "246                        1200         2483  \n",
       "247                        1158         2512  \n",
       "248                        1181         2535  "
      ]
     },
     "execution_count": 30,
     "metadata": {},
     "output_type": "execute_result"
    }
   ],
   "source": [
    "users_count = logs.groupby('exp_id')['user_id'].nunique()\n",
    "users_by_events['users_count'] = users_by_events['exp_id'].apply(lambda x: users_count.loc[x])\n",
    "users_by_events = users_by_events.set_index('exp_id')\n",
    "users_by_events"
   ]
  },
  {
   "cell_type": "code",
   "execution_count": 31,
   "id": "1299e4a1",
   "metadata": {},
   "outputs": [
    {
     "name": "stderr",
     "output_type": "stream",
     "text": [
      "C:\\Users\\dan25\\AppData\\Local\\Temp\\ipykernel_13972\\4286404164.py:3: FutureWarning:\n",
      "\n",
      "The frame.append method is deprecated and will be removed from pandas in a future version. Use pandas.concat instead.\n",
      "\n"
     ]
    },
    {
     "data": {
      "text/html": [
       "<div>\n",
       "<style scoped>\n",
       "    .dataframe tbody tr th:only-of-type {\n",
       "        vertical-align: middle;\n",
       "    }\n",
       "\n",
       "    .dataframe tbody tr th {\n",
       "        vertical-align: top;\n",
       "    }\n",
       "\n",
       "    .dataframe thead th {\n",
       "        text-align: right;\n",
       "    }\n",
       "</style>\n",
       "<table border=\"1\" class=\"dataframe\">\n",
       "  <thead>\n",
       "    <tr style=\"text-align: right;\">\n",
       "      <th>event</th>\n",
       "      <th>MainScreenAppear</th>\n",
       "      <th>OffersScreenAppear</th>\n",
       "      <th>CartScreenAppear</th>\n",
       "      <th>PaymentScreenSuccessful</th>\n",
       "      <th>users_count</th>\n",
       "    </tr>\n",
       "    <tr>\n",
       "      <th>exp_id</th>\n",
       "      <th></th>\n",
       "      <th></th>\n",
       "      <th></th>\n",
       "      <th></th>\n",
       "      <th></th>\n",
       "    </tr>\n",
       "  </thead>\n",
       "  <tbody>\n",
       "    <tr>\n",
       "      <th>246</th>\n",
       "      <td>2450</td>\n",
       "      <td>1542</td>\n",
       "      <td>1266</td>\n",
       "      <td>1200</td>\n",
       "      <td>2483</td>\n",
       "    </tr>\n",
       "    <tr>\n",
       "      <th>247</th>\n",
       "      <td>2476</td>\n",
       "      <td>1520</td>\n",
       "      <td>1238</td>\n",
       "      <td>1158</td>\n",
       "      <td>2512</td>\n",
       "    </tr>\n",
       "    <tr>\n",
       "      <th>246_247</th>\n",
       "      <td>4926</td>\n",
       "      <td>3062</td>\n",
       "      <td>2504</td>\n",
       "      <td>2358</td>\n",
       "      <td>4995</td>\n",
       "    </tr>\n",
       "    <tr>\n",
       "      <th>248</th>\n",
       "      <td>2493</td>\n",
       "      <td>1531</td>\n",
       "      <td>1230</td>\n",
       "      <td>1181</td>\n",
       "      <td>2535</td>\n",
       "    </tr>\n",
       "  </tbody>\n",
       "</table>\n",
       "</div>"
      ],
      "text/plain": [
       "event    MainScreenAppear  OffersScreenAppear  CartScreenAppear  \\\n",
       "exp_id                                                            \n",
       "246                  2450                1542              1266   \n",
       "247                  2476                1520              1238   \n",
       "246_247              4926                3062              2504   \n",
       "248                  2493                1531              1230   \n",
       "\n",
       "event    PaymentScreenSuccessful  users_count  \n",
       "exp_id                                         \n",
       "246                         1200         2483  \n",
       "247                         1158         2512  \n",
       "246_247                     2358         4995  \n",
       "248                         1181         2535  "
      ]
     },
     "execution_count": 31,
     "metadata": {},
     "output_type": "execute_result"
    }
   ],
   "source": [
    "\n",
    "new_row = users_by_events.loc[246] + users_by_events.loc[247]\n",
    "new_row.name = '246_247'\n",
    "users_by_events = users_by_events.append([new_row])\n",
    "users_by_events = users_by_events[['MainScreenAppear', 'OffersScreenAppear',\n",
    "                                   'CartScreenAppear', 'PaymentScreenSuccessful', 'users_count']]\n",
    "users_by_events = users_by_events.reindex([246, 247, '246_247', 248])\n",
    "users_by_events"
   ]
  },
  {
   "cell_type": "code",
   "execution_count": 42,
   "id": "4b01b49d",
   "metadata": {},
   "outputs": [],
   "source": [
    "alpha = .01\n",
    "\n",
    "#создадим ф-цию для проверки различий\n",
    "\n",
    "def p_estimation (new, previous):\n",
    "    # пропорция успехов в первой группе\n",
    "    p_first = new[0]/previous[0]\n",
    "    # пропорция успехов во второй группе\n",
    "    p_second = new[1]/previous[1]\n",
    "    # пропорция успехов в комбинированном датасете\n",
    "    p_combined = (new[0] + new[1]) / (previous[0] + previous[1])\n",
    "    # разница пропорций\n",
    "    difference = p_first - p_second\n",
    "    # считаем статистику в отклонениях стандратного норм.распеделения\n",
    "    z_value = (difference / mth.sqrt(p_combined*(1 - p_combined)\n",
    "                                    * (1/previous[0] + 1/previous[1])))\n",
    "    # задаем стандартное норм.распределение\n",
    "    distr = st.norm(0, 1)\n",
    "    \n",
    "    p_value = (1 - distr.cdf(abs(z_value)))*2\n",
    "    \n",
    "    print('р-значение:', p_value)\n",
    "    if (p_value < alpha):\n",
    "        print(\"значимая разница\")\n",
    "    else:\n",
    "        print(\"нету разницы\")"
   ]
  },
  {
   "cell_type": "code",
   "execution_count": 40,
   "id": "0a68bf98",
   "metadata": {},
   "outputs": [
    {
     "name": "stdout",
     "output_type": "stream",
     "text": [
      "р-значение: 0.5308589432077624\n",
      "нету разницы\n",
      "р-значение: 0.23905954279947372\n",
      "нету разницы\n",
      "р-значение: 0.017114434319547067\n",
      "нету разницы\n",
      "Bсе комбинации между объедененными группами А1/А2 и группой В\n",
      "-------------------------------------------------------------------\n",
      "р-значение: 0.2622344959255778\n",
      "нету разницы\n",
      "р-значение: 0.6393754713145263\n",
      "нету разницы\n",
      "р-значение: 0.18243439408067652\n",
      "нету разницы\n",
      "Bсе комбинации между группами 246 и 247\n",
      "-------------------------------------------------------------------\n",
      "р-значение: 0.2684281587249231\n",
      "нету разницы\n",
      "р-значение: 0.2112170818054686\n",
      "нету разницы\n",
      "р-значение: 0.14295341270419004\n",
      "нету разницы\n",
      "Bсе комбинации между группами 246 и 248\n",
      "-------------------------------------------------------------------\n",
      "р-значение: 0.9869365252844515\n",
      "нету разницы\n",
      "р-значение: 0.4364903513062255\n",
      "нету разницы\n",
      "р-значение: 0.005677465395736325\n",
      "значимая разница\n",
      "Bсе комбинации между группами 247 и 248\n"
     ]
    }
   ],
   "source": [
    "p_estimation(new = np.array([3062, 1531]), previous = np.array([4926, 2493]))\n",
    "p_estimation(new = np.array([2504, 1230]), previous = np.array([3062, 1531]))\n",
    "p_estimation(new = np.array([2358, 1181]), previous = np.array([2504, 1230])) \n",
    "print('Bсе комбинации между объедененными группами А1/А2 и группой В')\n",
    "print('-------------------------------------------------------------------')\n",
    "# проверяем все комбинации между группами 246 и 247\n",
    "\n",
    "p_estimation(new = np.array([1542, 1520]), previous = np.array([2450, 2476]))\n",
    "p_estimation(new = np.array([1266, 1238]), previous = np.array([1542, 1520]))\n",
    "p_estimation(new = np.array([1200, 1158]), previous = np.array([1266, 1238]))\n",
    "print('Bсе комбинации между группами 246 и 247')\n",
    "print('-------------------------------------------------------------------')\n",
    "\n",
    "# между группами 246 и 248\n",
    "\n",
    "p_estimation(new = np.array([1542, 1531]), previous = np.array([2450, 2493]))\n",
    "p_estimation(new = np.array([1266, 1230]), previous = np.array([1542, 1531]))\n",
    "p_estimation(new = np.array([1200, 1181]), previous = np.array([1266, 1230]))\n",
    "print('Bсе комбинации между группами 246 и 248')\n",
    "print('-------------------------------------------------------------------')\n",
    "\n",
    "# между группами 247 и 248\n",
    "\n",
    "p_estimation(new = np.array([1520, 1531]), previous = np.array([2476, 2493]))\n",
    "p_estimation(new = np.array([1238, 1230]), previous = np.array([1520, 1531]))\n",
    "p_estimation(new = np.array([1158, 1181]), previous = np.array([1238, 1230]))\n",
    "print('Bсе комбинации между группами 247 и 248')\n"
   ]
  },
  {
   "cell_type": "markdown",
   "id": "0629da84",
   "metadata": {},
   "source": [
    "При условии alpha .01 - значимая разница для комбинации между группами 247 и 248 для событий PaymentScreenSuccessful | CartScreenAppear\n"
   ]
  },
  {
   "cell_type": "markdown",
   "id": "d858ded7",
   "metadata": {},
   "source": [
    "- Общее кол-ство событий в логах - 244126\n",
    "- Кол-ство пользователей - 7551\n",
    "- Технически в логи новых дней по некоторым пользователям могут «доезжать» события из прошлого — это может «перекашивать данные», поэтому мы сделали срез и фактический диапазон дат стал с 1.08.2019 - 7.08.2019\n",
    "- Самое популярное событие - MainScreenAppear\n",
    "- Событие, которое реже всего используется пользователями - Tutorial\n",
    "- Как видим, цепочка выглядит как MainScreenAppear (главный экран) > OffersScreenAppear (экран предложения) > CartScreenAppear (корзина) > PaymentScreenSuccessful (старница успешной оплаты) сам же этам Tutorial (руководство) редко используется пользователями"
   ]
  },
  {
   "cell_type": "code",
   "execution_count": null,
   "id": "388a1ec8",
   "metadata": {},
   "outputs": [],
   "source": []
  }
 ],
 "metadata": {
  "kernelspec": {
   "display_name": "Python 3 (ipykernel)",
   "language": "python",
   "name": "python3"
  },
  "language_info": {
   "codemirror_mode": {
    "name": "ipython",
    "version": 3
   },
   "file_extension": ".py",
   "mimetype": "text/x-python",
   "name": "python",
   "nbconvert_exporter": "python",
   "pygments_lexer": "ipython3",
   "version": "3.10.9"
  }
 },
 "nbformat": 4,
 "nbformat_minor": 5
}
